{
 "cells": [
  {
   "cell_type": "markdown",
   "metadata": {},
   "source": [
    "Домашнее задание\n",
    "1. Переведите содержимое файла purchase_log.txt в словарь purchases вида:\n",
    "\n",
    "{'1840e0b9d4': 'Продукты', ...}\n",
    "2. Для каждого user_id в файле visit_log.csv добавьте третий столбец с категорией покупки (если покупка была).\n",
    "\n",
    "3. Запишите в файл funnel.csv визиты из файла visit_log.csv, в которых были покупки с указанием категории.\n",
    "\n",
    "Учтите условия на данные:\n",
    "\n",
    "содержимое purchase_log.txt помещается в оперативную память компьютера\n",
    "содержимое visit_log.csv - нет; используйте только построчную обработку этого файла"
   ]
  },
  {
   "cell_type": "markdown",
   "metadata": {},
   "source": [
    "Задание 1:"
   ]
  },
  {
   "cell_type": "code",
   "execution_count": 15,
   "metadata": {},
   "outputs": [
    {
     "name": "stdout",
     "output_type": "stream",
     "text": [
      "1840e0b9d4 Продукты\n",
      "Wall time: 922 ms\n"
     ]
    }
   ],
   "source": [
    "%%time\n",
    "\n",
    "import json\n",
    "purchases = {}\n",
    "\n",
    "with open('purchase_log.txt', 'r', encoding=\"utf-8\") as f:\n",
    "    next(f)\n",
    "    for line in f:\n",
    "        pre_line = json.loads(line.strip())\n",
    "        try:\n",
    "            purchases[pre_line['user_id']] = pre_line['category']\n",
    "        except:\n",
    "            print('Мы сюда больше не попадём.')\n",
    "\n",
    "#Печатаем первую строку для самопроверки\n",
    "for key, value in purchases.items():\n",
    "    print(key, value)\n",
    "    break\n",
    "    "
   ]
  },
  {
   "cell_type": "markdown",
   "metadata": {},
   "source": [
    "Задание 2: Для каждого user_id в файле visit_log.csv добавьте третий столбец с категорией покупки (если покупка была)."
   ]
  },
  {
   "cell_type": "code",
   "execution_count": 52,
   "metadata": {},
   "outputs": [
    {
     "name": "stdout",
     "output_type": "stream",
     "text": [
      "Wall time: 918 ms\n"
     ]
    }
   ],
   "source": [
    "%%time\n",
    "import json\n",
    "purchases = {}\n",
    "\n",
    "with open('visit_log.csv', 'r', encoding=\"utf-8\") as vl, open('purchase_log.txt', 'r', encoding=\"utf-8\") as pl, open('visit_log_result.csv','w') as vlr:\n",
    "    \n",
    "    #Загоняем логи покупок в словарик\n",
    "    next(pl)\n",
    "    for line_pl in pl:\n",
    "        pre_line_pl = json.loads(line_pl.strip())\n",
    "        purchases[pre_line_pl['user_id']] = pre_line_pl['category']\n",
    "        \n",
    "    #Перерабатываем построчно логи визитов\n",
    "    first_vl = vl.readline().strip() + ',category\\n'\n",
    "    vlr.write(first_vl)\n",
    "    while True:\n",
    "        line_vl = vl.readline()\n",
    "        if not line_vl: \n",
    "            break\n",
    "        try:\n",
    "            string_vlr = line_vl.strip()+','+purchases[line_vl.strip().split(',')[0]]+'\\n'\n",
    "        except:\n",
    "            string_vlr = line_vl.strip()+',\\n'\n",
    "        vlr.write(string_vlr)"
   ]
  },
  {
   "cell_type": "markdown",
   "metadata": {},
   "source": [
    "3. Запишите в файл funnel.csv визиты из файла visit_log.csv, в которых были покупки с указанием категории."
   ]
  },
  {
   "cell_type": "code",
   "execution_count": 68,
   "metadata": {},
   "outputs": [
    {
     "name": "stdout",
     "output_type": "stream",
     "text": [
      "Wall time: 615 ms\n"
     ]
    }
   ],
   "source": [
    "%%time\n",
    "import json\n",
    "purchases = {}\n",
    "\n",
    "with open('visit_log.csv', 'r', encoding=\"utf-8\") as vl, open('purchase_log.txt', 'r', encoding=\"utf-8\") as pl, open('funnel.csv','w') as vlr:\n",
    "    \n",
    "    #Загоняем логи покупок в словарик\n",
    "    next(pl)\n",
    "    for line_pl in pl:\n",
    "        pre_line_pl = json.loads(line_pl.strip())\n",
    "        purchases[pre_line_pl['user_id']] = pre_line_pl['category']\n",
    "        \n",
    "    #Перерабатываем построчно логи визитов\n",
    "    #Если не нужна категория\n",
    "    first_vl = vl.readline()\n",
    "    #Если нужна категория, раскомментировать\n",
    "    #first_vl = vl.readline().strip() + ',category\\n'\n",
    "    vlr.write(first_vl)\n",
    "\n",
    "    while True:\n",
    "        line_vl = vl.readline()\n",
    "        if not line_vl: \n",
    "            break\n",
    "        try:\n",
    "        #Если просто была категория, но в файл выводить не надо было ее\n",
    "            if purchases[line_vl.strip().split(',')[0]]: string_vlr = line_vl\n",
    "        #Раскомментить, если нужна была категория\n",
    "            #string_vlr = line_vl.strip()+','+purchases[line_vl.strip().split(',')[0]]+'\\n'\n",
    "            vlr.write(string_vlr)\n",
    "        except:\n",
    "            pass"
   ]
  },
  {
   "cell_type": "code",
   "execution_count": null,
   "metadata": {},
   "outputs": [],
   "source": []
  }
 ],
 "metadata": {
  "kernelspec": {
   "display_name": "Python 3",
   "language": "python",
   "name": "python3"
  },
  "language_info": {
   "codemirror_mode": {
    "name": "ipython",
    "version": 3
   },
   "file_extension": ".py",
   "mimetype": "text/x-python",
   "name": "python",
   "nbconvert_exporter": "python",
   "pygments_lexer": "ipython3",
   "version": "3.7.3"
  }
 },
 "nbformat": 4,
 "nbformat_minor": 2
}
