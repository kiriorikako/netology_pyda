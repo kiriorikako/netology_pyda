{
 "cells": [
  {
   "cell_type": "markdown",
   "metadata": {},
   "source": [
    "Задание 1:"
   ]
  },
  {
   "cell_type": "code",
   "execution_count": 21,
   "metadata": {},
   "outputs": [
    {
     "name": "stdout",
     "output_type": "stream",
     "text": [
      "yandex\n"
     ]
    }
   ],
   "source": [
    "stats = {'facebook': 55, 'yandex': 120, 'vk': 115, 'google': 99, 'email': 42, 'ok': 98}\n",
    "print(sorted(stats.items(), key = lambda x: -x[1])[0][0])"
   ]
  },
  {
   "cell_type": "markdown",
   "metadata": {},
   "source": [
    "Задание 2:"
   ]
  },
  {
   "cell_type": "code",
   "execution_count": 48,
   "metadata": {},
   "outputs": [
    {
     "name": "stdout",
     "output_type": "stream",
     "text": [
      "браслет xiaomi mi band 2 умный браслет xiaomi mi лидер в линейке xiaomi фитнес браслет для android 4.4 ios 7 экран oled лучший выбор xiaomi :  6\n",
      "браслет huawei honor band 3 фитнес браслет влагозащищенный сенсорный экран android ios мониторинг сна :  1\n",
      "браслет samsung gear fit2 pro влагозащищенный сенсорный amoled-экран мониторинг сна калорий новинка samsung :  1\n"
     ]
    },
    {
     "data": {
      "text/plain": [
       "{'браслет xiaomi mi band 2 умный браслет xiaomi mi лидер в линейке xiaomi фитнес браслет для android 4.4 ios 7 экран oled лучший выбор xiaomi': 6,\n",
       " 'браслет huawei honor band 3 фитнес браслет влагозащищенный сенсорный экран android ios мониторинг сна': 1,\n",
       " 'браслет samsung gear fit2 pro влагозащищенный сенсорный amoled-экран мониторинг сна калорий новинка samsung': 1}"
      ]
     },
     "execution_count": 48,
     "metadata": {},
     "output_type": "execute_result"
    }
   ],
   "source": [
    "descriptions = [\n",
    "['браслет', 'xiaomi', 'mi', 'band', '2.', 'умный', 'браслет', 'xiaomi', 'mi', 'лидер', 'в', 'линейке', 'xiaomi.', 'фитнес', 'браслет', 'для', 'android', '4.4,', 'ios', '7,', 'экран', 'oled.', 'лучший', 'выбор', 'xiaomi'],\n",
    "['браслет', 'huawei', 'honor', 'band', '3.', 'фитнес', 'браслет', 'влагозащищенный', 'сенсорный', 'экран', 'android,', 'ios', 'мониторинг', 'сна'],\n",
    "['браслет', 'samsung', 'gear', 'fit2', 'pro.', 'влагозащищенный', 'сенсорный', 'amoled-экран', 'мониторинг', 'сна,', 'калорий,', 'новинка', 'samsung'],\n",
    "]\n",
    "#Чистим запросы с пунктуацией\n",
    "cleared_descriptions = [[y[:-1] if y[-1] in '.,!:?' else y for y in x] for x in descriptions]\n",
    "\n",
    "#Вариант 1:\n",
    "for item in cleared_descriptions:\n",
    "    str_ = ' '.join(str(x) for x in item)\n",
    "    result = len(item) - len(set(item))\n",
    "    print(str_, ': ', result)\n",
    "    \n",
    "#Вариант 2:\n",
    "\n",
    "{' '.join(str(x) for x in item): (len(item) - len(set(item))) for item in cleared_descriptions}"
   ]
  },
  {
   "cell_type": "markdown",
   "metadata": {},
   "source": [
    "Задание 3:"
   ]
  },
  {
   "cell_type": "code",
   "execution_count": 60,
   "metadata": {},
   "outputs": [
    {
     "name": "stdout",
     "output_type": "stream",
     "text": [
      "Введите длину кортежа в виде числа 1\n",
      "('14',) ['3946', '3', '54274']\n"
     ]
    }
   ],
   "source": [
    "cortage_length = int(input('Введите длину кортежа в виде числа '))\n",
    "stats_dict = {}\n",
    "\n",
    "with open('stats.csv') as f:\n",
    "    for line in f:\n",
    "        line = line.strip().split(',')\n",
    "        if len(line) <= cortage_length:\n",
    "            print('Заданная длина кортежа слишком велика, укажите меньшую')\n",
    "            break            \n",
    "        stats_dict[tuple(line[:cortage_length])] = line[cortage_length - (len(line)):]\n",
    "        \n",
    "for key, value in stats_dict.items():\n",
    "    print(key, value)\n",
    "    break\n",
    "    \n"
   ]
  }
 ],
 "metadata": {
  "kernelspec": {
   "display_name": "Python 3",
   "language": "python",
   "name": "python3"
  },
  "language_info": {
   "codemirror_mode": {
    "name": "ipython",
    "version": 3
   },
   "file_extension": ".py",
   "mimetype": "text/x-python",
   "name": "python",
   "nbconvert_exporter": "python",
   "pygments_lexer": "ipython3",
   "version": "3.7.3"
  }
 },
 "nbformat": 4,
 "nbformat_minor": 2
}
