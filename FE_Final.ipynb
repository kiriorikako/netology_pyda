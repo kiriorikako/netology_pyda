{
 "cells": [
  {
   "cell_type": "markdown",
   "metadata": {},
   "source": [
    "Поздравляю вас, теперь вы вооружены знаниями по предобработке данных, и пора применить их на интересном кейсе.\n",
    "\n",
    "Представлены данные такси, по которым мы должны предсказать возьмёт ли таксист заказ или нет(driver_response).\n",
    "\n",
    "Принципы вы знаете, чек-лист аналогичен лабораторной работе.\n",
    "\n",
    "Чек-лист:\n",
    "\n",
    "Загрузите датасет taxi.csv.\n",
    "\n",
    "Посмотрите на данные. Отобразите общую информацию по признакам (вспомните о describe и info). Напишите в markdown свои наблюдения.\n",
    "\n",
    "Выявите пропуски, а также возможные причины их возникновения. Решите, что следует сделать с ними. Напишите в markdown свои наблюдения.\n",
    "\n",
    "Оцените зависимости переменных между собой. Используйте корреляции. Будет хорошо, если воспользуетесь profile_report. Напишите в markdown свои наблюдения.\n",
    "\n",
    "Определите стратегию преобразования категориальных признаков (т.е. как их сделать адекватными для моделей).\n",
    "\n",
    "Найдите признаки, которые можно разделить на другие, или преобразовать в другой тип данных. Удалите лишние, при необходимости.\n",
    "\n",
    "Разделите выборку на обучаемую и тестовую.\n",
    "\n",
    "Обучите модель. Напишите в markdown свои наблюдения по полученным результатам. Хорошие результаты дают классификаторы RandomForest и XGBoost"
   ]
  },
  {
   "cell_type": "code",
   "execution_count": 1,
   "metadata": {},
   "outputs": [],
   "source": [
    "%matplotlib inline\n",
    "\n",
    "import pandas as pd\n",
    "import pandas_profiling\n",
    "import numpy as np\n",
    "import matplotlib.pyplot as plt\n",
    "import seaborn as sns\n",
    "\n",
    "from sklearn.model_selection import train_test_split, cross_val_score\n",
    "from sklearn.linear_model import LinearRegression\n",
    "from sklearn.ensemble import RandomForestClassifier\n",
    "from sklearn.preprocessing import normalize\n",
    "from sklearn.decomposition import PCA"
   ]
  },
  {
   "cell_type": "markdown",
   "metadata": {},
   "source": [
    "# Загрузите датасет taxi.csv."
   ]
  },
  {
   "cell_type": "code",
   "execution_count": 245,
   "metadata": {},
   "outputs": [],
   "source": [
    "df = pd.read_csv('taxi.csv')"
   ]
  },
  {
   "cell_type": "markdown",
   "metadata": {},
   "source": [
    "# Посмотрите на данные. "
   ]
  },
  {
   "cell_type": "code",
   "execution_count": 246,
   "metadata": {
    "scrolled": true
   },
   "outputs": [
    {
     "data": {
      "text/html": [
       "<div>\n",
       "<style scoped>\n",
       "    .dataframe tbody tr th:only-of-type {\n",
       "        vertical-align: middle;\n",
       "    }\n",
       "\n",
       "    .dataframe tbody tr th {\n",
       "        vertical-align: top;\n",
       "    }\n",
       "\n",
       "    .dataframe thead th {\n",
       "        text-align: right;\n",
       "    }\n",
       "</style>\n",
       "<table border=\"1\" class=\"dataframe\">\n",
       "  <thead>\n",
       "    <tr style=\"text-align: right;\">\n",
       "      <th></th>\n",
       "      <th>offer_gk</th>\n",
       "      <th>weekday_key</th>\n",
       "      <th>hour_key</th>\n",
       "      <th>driver_gk</th>\n",
       "      <th>order_gk</th>\n",
       "      <th>driver_latitude</th>\n",
       "      <th>driver_longitude</th>\n",
       "      <th>origin_order_latitude</th>\n",
       "      <th>origin_order_longitude</th>\n",
       "      <th>distance_km</th>\n",
       "      <th>duration_min</th>\n",
       "      <th>offer_class_group</th>\n",
       "      <th>ride_type_desc</th>\n",
       "      <th>driver_response</th>\n",
       "    </tr>\n",
       "  </thead>\n",
       "  <tbody>\n",
       "    <tr>\n",
       "      <th>0</th>\n",
       "      <td>1105373</td>\n",
       "      <td>5</td>\n",
       "      <td>20</td>\n",
       "      <td>6080</td>\n",
       "      <td>174182</td>\n",
       "      <td>55.818842</td>\n",
       "      <td>37.334562</td>\n",
       "      <td>55.814567</td>\n",
       "      <td>37.355010</td>\n",
       "      <td>-1.000</td>\n",
       "      <td>-1.000</td>\n",
       "      <td>Economy</td>\n",
       "      <td>private</td>\n",
       "      <td>0</td>\n",
       "    </tr>\n",
       "    <tr>\n",
       "      <th>1</th>\n",
       "      <td>759733</td>\n",
       "      <td>5</td>\n",
       "      <td>14</td>\n",
       "      <td>6080</td>\n",
       "      <td>358774</td>\n",
       "      <td>55.805342</td>\n",
       "      <td>37.515023</td>\n",
       "      <td>55.819329</td>\n",
       "      <td>37.466398</td>\n",
       "      <td>18.802</td>\n",
       "      <td>25.217</td>\n",
       "      <td>Standard</td>\n",
       "      <td>private</td>\n",
       "      <td>1</td>\n",
       "    </tr>\n",
       "    <tr>\n",
       "      <th>2</th>\n",
       "      <td>416977</td>\n",
       "      <td>6</td>\n",
       "      <td>14</td>\n",
       "      <td>6080</td>\n",
       "      <td>866260</td>\n",
       "      <td>55.813978</td>\n",
       "      <td>37.347688</td>\n",
       "      <td>55.814827</td>\n",
       "      <td>37.354074</td>\n",
       "      <td>6.747</td>\n",
       "      <td>9.800</td>\n",
       "      <td>Economy</td>\n",
       "      <td>private</td>\n",
       "      <td>0</td>\n",
       "    </tr>\n",
       "    <tr>\n",
       "      <th>3</th>\n",
       "      <td>889660</td>\n",
       "      <td>2</td>\n",
       "      <td>6</td>\n",
       "      <td>6080</td>\n",
       "      <td>163522</td>\n",
       "      <td>55.745922</td>\n",
       "      <td>37.421748</td>\n",
       "      <td>55.743469</td>\n",
       "      <td>37.431130</td>\n",
       "      <td>-1.000</td>\n",
       "      <td>-1.000</td>\n",
       "      <td>Economy</td>\n",
       "      <td>private</td>\n",
       "      <td>1</td>\n",
       "    </tr>\n",
       "    <tr>\n",
       "      <th>4</th>\n",
       "      <td>1120055</td>\n",
       "      <td>4</td>\n",
       "      <td>16</td>\n",
       "      <td>6080</td>\n",
       "      <td>506710</td>\n",
       "      <td>55.803578</td>\n",
       "      <td>37.521602</td>\n",
       "      <td>55.812559</td>\n",
       "      <td>37.527407</td>\n",
       "      <td>12.383</td>\n",
       "      <td>19.250</td>\n",
       "      <td>Economy</td>\n",
       "      <td>private</td>\n",
       "      <td>1</td>\n",
       "    </tr>\n",
       "    <tr>\n",
       "      <th>5</th>\n",
       "      <td>1058203</td>\n",
       "      <td>6</td>\n",
       "      <td>15</td>\n",
       "      <td>6080</td>\n",
       "      <td>360328</td>\n",
       "      <td>55.818963</td>\n",
       "      <td>37.361033</td>\n",
       "      <td>55.814827</td>\n",
       "      <td>37.354074</td>\n",
       "      <td>6.747</td>\n",
       "      <td>9.800</td>\n",
       "      <td>Economy</td>\n",
       "      <td>private</td>\n",
       "      <td>0</td>\n",
       "    </tr>\n",
       "    <tr>\n",
       "      <th>6</th>\n",
       "      <td>103326</td>\n",
       "      <td>2</td>\n",
       "      <td>11</td>\n",
       "      <td>6080</td>\n",
       "      <td>615584</td>\n",
       "      <td>55.753508</td>\n",
       "      <td>37.663742</td>\n",
       "      <td>55.757251</td>\n",
       "      <td>37.659064</td>\n",
       "      <td>-1.000</td>\n",
       "      <td>-1.000</td>\n",
       "      <td>Standard</td>\n",
       "      <td>business</td>\n",
       "      <td>1</td>\n",
       "    </tr>\n",
       "    <tr>\n",
       "      <th>7</th>\n",
       "      <td>128861</td>\n",
       "      <td>5</td>\n",
       "      <td>20</td>\n",
       "      <td>6080</td>\n",
       "      <td>254374</td>\n",
       "      <td>55.839318</td>\n",
       "      <td>37.248862</td>\n",
       "      <td>55.839134</td>\n",
       "      <td>37.304101</td>\n",
       "      <td>1.517</td>\n",
       "      <td>3.933</td>\n",
       "      <td>Economy</td>\n",
       "      <td>private</td>\n",
       "      <td>0</td>\n",
       "    </tr>\n",
       "    <tr>\n",
       "      <th>8</th>\n",
       "      <td>493006</td>\n",
       "      <td>5</td>\n",
       "      <td>20</td>\n",
       "      <td>6080</td>\n",
       "      <td>753429</td>\n",
       "      <td>55.818748</td>\n",
       "      <td>37.338240</td>\n",
       "      <td>55.835764</td>\n",
       "      <td>37.294710</td>\n",
       "      <td>6.222</td>\n",
       "      <td>15.433</td>\n",
       "      <td>Economy</td>\n",
       "      <td>private</td>\n",
       "      <td>0</td>\n",
       "    </tr>\n",
       "    <tr>\n",
       "      <th>9</th>\n",
       "      <td>953983</td>\n",
       "      <td>6</td>\n",
       "      <td>7</td>\n",
       "      <td>6080</td>\n",
       "      <td>533820</td>\n",
       "      <td>55.839155</td>\n",
       "      <td>37.251947</td>\n",
       "      <td>55.833198</td>\n",
       "      <td>37.312197</td>\n",
       "      <td>10.410</td>\n",
       "      <td>23.083</td>\n",
       "      <td>Economy</td>\n",
       "      <td>private</td>\n",
       "      <td>0</td>\n",
       "    </tr>\n",
       "  </tbody>\n",
       "</table>\n",
       "</div>"
      ],
      "text/plain": [
       "   offer_gk  weekday_key  hour_key  driver_gk  order_gk  driver_latitude  \\\n",
       "0   1105373            5        20       6080    174182        55.818842   \n",
       "1    759733            5        14       6080    358774        55.805342   \n",
       "2    416977            6        14       6080    866260        55.813978   \n",
       "3    889660            2         6       6080    163522        55.745922   \n",
       "4   1120055            4        16       6080    506710        55.803578   \n",
       "5   1058203            6        15       6080    360328        55.818963   \n",
       "6    103326            2        11       6080    615584        55.753508   \n",
       "7    128861            5        20       6080    254374        55.839318   \n",
       "8    493006            5        20       6080    753429        55.818748   \n",
       "9    953983            6         7       6080    533820        55.839155   \n",
       "\n",
       "   driver_longitude  origin_order_latitude  origin_order_longitude  \\\n",
       "0         37.334562              55.814567               37.355010   \n",
       "1         37.515023              55.819329               37.466398   \n",
       "2         37.347688              55.814827               37.354074   \n",
       "3         37.421748              55.743469               37.431130   \n",
       "4         37.521602              55.812559               37.527407   \n",
       "5         37.361033              55.814827               37.354074   \n",
       "6         37.663742              55.757251               37.659064   \n",
       "7         37.248862              55.839134               37.304101   \n",
       "8         37.338240              55.835764               37.294710   \n",
       "9         37.251947              55.833198               37.312197   \n",
       "\n",
       "   distance_km  duration_min offer_class_group ride_type_desc  driver_response  \n",
       "0       -1.000        -1.000           Economy        private                0  \n",
       "1       18.802        25.217          Standard        private                1  \n",
       "2        6.747         9.800           Economy        private                0  \n",
       "3       -1.000        -1.000           Economy        private                1  \n",
       "4       12.383        19.250           Economy        private                1  \n",
       "5        6.747         9.800           Economy        private                0  \n",
       "6       -1.000        -1.000          Standard       business                1  \n",
       "7        1.517         3.933           Economy        private                0  \n",
       "8        6.222        15.433           Economy        private                0  \n",
       "9       10.410        23.083           Economy        private                0  "
      ]
     },
     "execution_count": 246,
     "metadata": {},
     "output_type": "execute_result"
    }
   ],
   "source": [
    "df.head(10)"
   ]
  },
  {
   "cell_type": "markdown",
   "metadata": {},
   "source": [
    "# Отобразите общую информацию по признакам (вспомните о describe и info)."
   ]
  },
  {
   "cell_type": "code",
   "execution_count": 247,
   "metadata": {
    "scrolled": false
   },
   "outputs": [
    {
     "name": "stdout",
     "output_type": "stream",
     "text": [
      "<class 'pandas.core.frame.DataFrame'>\n",
      "RangeIndex: 100000 entries, 0 to 99999\n",
      "Data columns (total 14 columns):\n",
      "offer_gk                  100000 non-null int64\n",
      "weekday_key               100000 non-null int64\n",
      "hour_key                  100000 non-null int64\n",
      "driver_gk                 100000 non-null int64\n",
      "order_gk                  100000 non-null int64\n",
      "driver_latitude           100000 non-null float64\n",
      "driver_longitude          100000 non-null float64\n",
      "origin_order_latitude     100000 non-null float64\n",
      "origin_order_longitude    100000 non-null float64\n",
      "distance_km               100000 non-null float64\n",
      "duration_min              100000 non-null float64\n",
      "offer_class_group         100000 non-null object\n",
      "ride_type_desc            100000 non-null object\n",
      "driver_response           100000 non-null int64\n",
      "dtypes: float64(6), int64(6), object(2)\n",
      "memory usage: 10.7+ MB\n"
     ]
    }
   ],
   "source": [
    "df.info()"
   ]
  },
  {
   "cell_type": "code",
   "execution_count": 248,
   "metadata": {},
   "outputs": [
    {
     "data": {
      "text/html": [
       "<div>\n",
       "<style scoped>\n",
       "    .dataframe tbody tr th:only-of-type {\n",
       "        vertical-align: middle;\n",
       "    }\n",
       "\n",
       "    .dataframe tbody tr th {\n",
       "        vertical-align: top;\n",
       "    }\n",
       "\n",
       "    .dataframe thead th {\n",
       "        text-align: right;\n",
       "    }\n",
       "</style>\n",
       "<table border=\"1\" class=\"dataframe\">\n",
       "  <thead>\n",
       "    <tr style=\"text-align: right;\">\n",
       "      <th></th>\n",
       "      <th>offer_gk</th>\n",
       "      <th>weekday_key</th>\n",
       "      <th>hour_key</th>\n",
       "      <th>driver_gk</th>\n",
       "      <th>order_gk</th>\n",
       "      <th>driver_latitude</th>\n",
       "      <th>driver_longitude</th>\n",
       "      <th>origin_order_latitude</th>\n",
       "      <th>origin_order_longitude</th>\n",
       "      <th>distance_km</th>\n",
       "      <th>duration_min</th>\n",
       "      <th>driver_response</th>\n",
       "    </tr>\n",
       "  </thead>\n",
       "  <tbody>\n",
       "    <tr>\n",
       "      <th>count</th>\n",
       "      <td>1.000000e+05</td>\n",
       "      <td>100000.000000</td>\n",
       "      <td>100000.000000</td>\n",
       "      <td>100000.000000</td>\n",
       "      <td>100000.00000</td>\n",
       "      <td>100000.000000</td>\n",
       "      <td>100000.000000</td>\n",
       "      <td>100000.000000</td>\n",
       "      <td>100000.000000</td>\n",
       "      <td>100000.000000</td>\n",
       "      <td>100000.000000</td>\n",
       "      <td>100000.000000</td>\n",
       "    </tr>\n",
       "    <tr>\n",
       "      <th>mean</th>\n",
       "      <td>5.662189e+05</td>\n",
       "      <td>3.159860</td>\n",
       "      <td>13.827790</td>\n",
       "      <td>3446.376360</td>\n",
       "      <td>460867.01291</td>\n",
       "      <td>55.700824</td>\n",
       "      <td>37.492292</td>\n",
       "      <td>55.772440</td>\n",
       "      <td>37.541637</td>\n",
       "      <td>18.393518</td>\n",
       "      <td>23.134841</td>\n",
       "      <td>0.492480</td>\n",
       "    </tr>\n",
       "    <tr>\n",
       "      <th>std</th>\n",
       "      <td>3.259360e+05</td>\n",
       "      <td>2.054222</td>\n",
       "      <td>7.306496</td>\n",
       "      <td>2038.738677</td>\n",
       "      <td>266064.98953</td>\n",
       "      <td>2.135903</td>\n",
       "      <td>1.454640</td>\n",
       "      <td>0.665985</td>\n",
       "      <td>0.467758</td>\n",
       "      <td>41.129296</td>\n",
       "      <td>33.890105</td>\n",
       "      <td>0.499946</td>\n",
       "    </tr>\n",
       "    <tr>\n",
       "      <th>min</th>\n",
       "      <td>4.000000e+00</td>\n",
       "      <td>0.000000</td>\n",
       "      <td>0.000000</td>\n",
       "      <td>14.000000</td>\n",
       "      <td>18.00000</td>\n",
       "      <td>-1.000000</td>\n",
       "      <td>-1.000000</td>\n",
       "      <td>-1.000000</td>\n",
       "      <td>-1.000000</td>\n",
       "      <td>-1.000000</td>\n",
       "      <td>-1.000000</td>\n",
       "      <td>0.000000</td>\n",
       "    </tr>\n",
       "    <tr>\n",
       "      <th>25%</th>\n",
       "      <td>2.855552e+05</td>\n",
       "      <td>1.000000</td>\n",
       "      <td>8.000000</td>\n",
       "      <td>1421.000000</td>\n",
       "      <td>229178.50000</td>\n",
       "      <td>55.708651</td>\n",
       "      <td>37.413497</td>\n",
       "      <td>55.708032</td>\n",
       "      <td>37.407117</td>\n",
       "      <td>-1.000000</td>\n",
       "      <td>-1.000000</td>\n",
       "      <td>0.000000</td>\n",
       "    </tr>\n",
       "    <tr>\n",
       "      <th>50%</th>\n",
       "      <td>5.656715e+05</td>\n",
       "      <td>3.000000</td>\n",
       "      <td>16.000000</td>\n",
       "      <td>3506.500000</td>\n",
       "      <td>462420.00000</td>\n",
       "      <td>55.772904</td>\n",
       "      <td>37.533664</td>\n",
       "      <td>55.772561</td>\n",
       "      <td>37.532537</td>\n",
       "      <td>10.411500</td>\n",
       "      <td>19.700000</td>\n",
       "      <td>0.000000</td>\n",
       "    </tr>\n",
       "    <tr>\n",
       "      <th>75%</th>\n",
       "      <td>8.487198e+05</td>\n",
       "      <td>5.000000</td>\n",
       "      <td>20.000000</td>\n",
       "      <td>5242.000000</td>\n",
       "      <td>690894.00000</td>\n",
       "      <td>55.960667</td>\n",
       "      <td>37.624113</td>\n",
       "      <td>55.962000</td>\n",
       "      <td>37.624358</td>\n",
       "      <td>30.665250</td>\n",
       "      <td>37.867000</td>\n",
       "      <td>1.000000</td>\n",
       "    </tr>\n",
       "    <tr>\n",
       "      <th>max</th>\n",
       "      <td>1.130355e+06</td>\n",
       "      <td>6.000000</td>\n",
       "      <td>23.000000</td>\n",
       "      <td>6806.000000</td>\n",
       "      <td>920344.00000</td>\n",
       "      <td>56.174097</td>\n",
       "      <td>38.280547</td>\n",
       "      <td>56.311121</td>\n",
       "      <td>38.243608</td>\n",
       "      <td>5234.283000</td>\n",
       "      <td>3958.283000</td>\n",
       "      <td>1.000000</td>\n",
       "    </tr>\n",
       "  </tbody>\n",
       "</table>\n",
       "</div>"
      ],
      "text/plain": [
       "           offer_gk    weekday_key       hour_key      driver_gk  \\\n",
       "count  1.000000e+05  100000.000000  100000.000000  100000.000000   \n",
       "mean   5.662189e+05       3.159860      13.827790    3446.376360   \n",
       "std    3.259360e+05       2.054222       7.306496    2038.738677   \n",
       "min    4.000000e+00       0.000000       0.000000      14.000000   \n",
       "25%    2.855552e+05       1.000000       8.000000    1421.000000   \n",
       "50%    5.656715e+05       3.000000      16.000000    3506.500000   \n",
       "75%    8.487198e+05       5.000000      20.000000    5242.000000   \n",
       "max    1.130355e+06       6.000000      23.000000    6806.000000   \n",
       "\n",
       "           order_gk  driver_latitude  driver_longitude  origin_order_latitude  \\\n",
       "count  100000.00000    100000.000000     100000.000000          100000.000000   \n",
       "mean   460867.01291        55.700824         37.492292              55.772440   \n",
       "std    266064.98953         2.135903          1.454640               0.665985   \n",
       "min        18.00000        -1.000000         -1.000000              -1.000000   \n",
       "25%    229178.50000        55.708651         37.413497              55.708032   \n",
       "50%    462420.00000        55.772904         37.533664              55.772561   \n",
       "75%    690894.00000        55.960667         37.624113              55.962000   \n",
       "max    920344.00000        56.174097         38.280547              56.311121   \n",
       "\n",
       "       origin_order_longitude    distance_km   duration_min  driver_response  \n",
       "count           100000.000000  100000.000000  100000.000000    100000.000000  \n",
       "mean                37.541637      18.393518      23.134841         0.492480  \n",
       "std                  0.467758      41.129296      33.890105         0.499946  \n",
       "min                 -1.000000      -1.000000      -1.000000         0.000000  \n",
       "25%                 37.407117      -1.000000      -1.000000         0.000000  \n",
       "50%                 37.532537      10.411500      19.700000         0.000000  \n",
       "75%                 37.624358      30.665250      37.867000         1.000000  \n",
       "max                 38.243608    5234.283000    3958.283000         1.000000  "
      ]
     },
     "execution_count": 248,
     "metadata": {},
     "output_type": "execute_result"
    }
   ],
   "source": [
    "df.describe()"
   ]
  },
  {
   "cell_type": "markdown",
   "metadata": {},
   "source": [
    "# Напишите в markdown свои наблюдения."
   ]
  },
  {
   "cell_type": "markdown",
   "metadata": {},
   "source": [
    "* offer_gk - ИД строки (ключ)\n",
    "* weekday_key - номер дня недели по английскому стилю (вск - 0, пн - 1, и т.д.)\n",
    "* hour_key - час (от 0 до 23)\n",
    "* driver_gk - ИД водителя\n",
    "* order_gk - ИД заявки\n",
    "* driver_latitude - координаты водителя (широта)\n",
    "* driver_longitude - координаты водителя (долгота)\n",
    "* origin_order_latitude - координаты пассажира (широта)\n",
    "* origin_order_longitude - координаты пассажира (долгота)\n",
    "* distance_km - расчетное расстояние поездки\n",
    "* duration_min - расчетное время поездки\n",
    "* offer_class_group - класс заказа\n",
    "* ride_type_desc - тип заказа\n",
    "* driver_response - решение водителя"
   ]
  },
  {
   "cell_type": "markdown",
   "metadata": {},
   "source": [
    "Из указанного датасета можно смело удалить столбцы offer_gk, driver_gk, order_gk, т.к. это уникальные ИД и на результат они имеют достаточно маленькое влияние. Возможно, из них можно тольков ычленить поведенческие особенности конкретного водителя или заказчика, но мы не этим занимаемся.\n",
    "\n",
    "Также нужно уделить пристальное внимание столбцу distance_km, т.к. его максимальное значение, вероятно, является выбросом и вполне возможны иные аномалии. 5234 км - чуть меньше радиуса планеты Земля и 1\\8 протяженности экватора.\n",
    "\n",
    "Также понадобится обработка расстояния, ширины, долготы и длительности поездки со значением -1. Это, по всей видимости, либо некорректные данные (в случае с геолокацией водителя или пассажира), либо их следствие - дистанция и длительность."
   ]
  },
  {
   "cell_type": "markdown",
   "metadata": {},
   "source": [
    "# Начнем с удаления записей ИД."
   ]
  },
  {
   "cell_type": "code",
   "execution_count": 249,
   "metadata": {
    "scrolled": true
   },
   "outputs": [],
   "source": [
    "df.drop(['offer_gk', 'driver_gk', 'order_gk'], axis=1, inplace=True)"
   ]
  },
  {
   "cell_type": "markdown",
   "metadata": {},
   "source": [
    "# Обработаем данные ширины-долготы, равные -1 или 0"
   ]
  },
  {
   "cell_type": "code",
   "execution_count": 250,
   "metadata": {},
   "outputs": [
    {
     "data": {
      "text/plain": [
       "((141, 11), (141, 11))"
      ]
     },
     "execution_count": 250,
     "metadata": {},
     "output_type": "execute_result"
    }
   ],
   "source": [
    "df[df['driver_latitude'] <= 0].shape, df[df['driver_longitude'] <= 0].shape"
   ]
  },
  {
   "cell_type": "markdown",
   "metadata": {},
   "source": [
    "141 значение из 100к будем считать незначительным, возможно, имели место сбои системы геолокации. Невозможно подобрать заказ водителю, который находится неизвестно где."
   ]
  },
  {
   "cell_type": "code",
   "execution_count": 251,
   "metadata": {},
   "outputs": [
    {
     "data": {
      "text/plain": [
       "((13, 11), (13, 11))"
      ]
     },
     "execution_count": 251,
     "metadata": {},
     "output_type": "execute_result"
    }
   ],
   "source": [
    "df[df['origin_order_latitude'] <= 0].shape, df[df['origin_order_longitude'] <= 0].shape"
   ]
  },
  {
   "cell_type": "markdown",
   "metadata": {},
   "source": [
    "Также присутствуют 13 заказов, где неизвестна геолокация пассажира. Это нонсенс, ведь водитель не может ехать туда, не знаю куда. От них стоит избавиться."
   ]
  },
  {
   "cell_type": "code",
   "execution_count": 252,
   "metadata": {},
   "outputs": [],
   "source": [
    "kill_drivers_lat = df[df['driver_latitude'] <= 0].index\n",
    "kill_drivers_long = df[df['driver_longitude'] <= 0].index\n",
    "kill_order_lat = df[df['origin_order_latitude'] <= 0].index\n",
    "kill_order_long = df[df['origin_order_longitude'] <= 0].index "
   ]
  },
  {
   "cell_type": "code",
   "execution_count": 253,
   "metadata": {},
   "outputs": [],
   "source": [
    "df.drop([*kill_drivers_lat, *kill_drivers_long, *kill_order_lat, *kill_order_long], inplace=True)"
   ]
  },
  {
   "cell_type": "code",
   "execution_count": 254,
   "metadata": {},
   "outputs": [
    {
     "data": {
      "text/html": [
       "<div>\n",
       "<style scoped>\n",
       "    .dataframe tbody tr th:only-of-type {\n",
       "        vertical-align: middle;\n",
       "    }\n",
       "\n",
       "    .dataframe tbody tr th {\n",
       "        vertical-align: top;\n",
       "    }\n",
       "\n",
       "    .dataframe thead th {\n",
       "        text-align: right;\n",
       "    }\n",
       "</style>\n",
       "<table border=\"1\" class=\"dataframe\">\n",
       "  <thead>\n",
       "    <tr style=\"text-align: right;\">\n",
       "      <th></th>\n",
       "      <th>weekday_key</th>\n",
       "      <th>hour_key</th>\n",
       "      <th>driver_latitude</th>\n",
       "      <th>driver_longitude</th>\n",
       "      <th>origin_order_latitude</th>\n",
       "      <th>origin_order_longitude</th>\n",
       "      <th>distance_km</th>\n",
       "      <th>duration_min</th>\n",
       "      <th>driver_response</th>\n",
       "    </tr>\n",
       "  </thead>\n",
       "  <tbody>\n",
       "    <tr>\n",
       "      <th>count</th>\n",
       "      <td>99846.000000</td>\n",
       "      <td>99846.000000</td>\n",
       "      <td>99846.000000</td>\n",
       "      <td>99846.000000</td>\n",
       "      <td>99846.000000</td>\n",
       "      <td>99846.000000</td>\n",
       "      <td>99846.000000</td>\n",
       "      <td>99846.000000</td>\n",
       "      <td>99846.000000</td>\n",
       "    </tr>\n",
       "    <tr>\n",
       "      <th>mean</th>\n",
       "      <td>3.160087</td>\n",
       "      <td>13.826633</td>\n",
       "      <td>55.780883</td>\n",
       "      <td>37.546631</td>\n",
       "      <td>55.780195</td>\n",
       "      <td>37.546311</td>\n",
       "      <td>18.411756</td>\n",
       "      <td>23.159030</td>\n",
       "      <td>0.491757</td>\n",
       "    </tr>\n",
       "    <tr>\n",
       "      <th>std</th>\n",
       "      <td>2.054477</td>\n",
       "      <td>7.308449</td>\n",
       "      <td>0.153851</td>\n",
       "      <td>0.157053</td>\n",
       "      <td>0.156106</td>\n",
       "      <td>0.159887</td>\n",
       "      <td>41.150869</td>\n",
       "      <td>33.901266</td>\n",
       "      <td>0.499935</td>\n",
       "    </tr>\n",
       "    <tr>\n",
       "      <th>min</th>\n",
       "      <td>0.000000</td>\n",
       "      <td>0.000000</td>\n",
       "      <td>55.327636</td>\n",
       "      <td>36.984771</td>\n",
       "      <td>55.327917</td>\n",
       "      <td>36.994072</td>\n",
       "      <td>-1.000000</td>\n",
       "      <td>-1.000000</td>\n",
       "      <td>0.000000</td>\n",
       "    </tr>\n",
       "    <tr>\n",
       "      <th>25%</th>\n",
       "      <td>1.000000</td>\n",
       "      <td>8.000000</td>\n",
       "      <td>55.709285</td>\n",
       "      <td>37.413497</td>\n",
       "      <td>55.708502</td>\n",
       "      <td>37.407117</td>\n",
       "      <td>-1.000000</td>\n",
       "      <td>-1.000000</td>\n",
       "      <td>0.000000</td>\n",
       "    </tr>\n",
       "    <tr>\n",
       "      <th>50%</th>\n",
       "      <td>3.000000</td>\n",
       "      <td>16.000000</td>\n",
       "      <td>55.773085</td>\n",
       "      <td>37.533874</td>\n",
       "      <td>55.772734</td>\n",
       "      <td>37.532189</td>\n",
       "      <td>10.441500</td>\n",
       "      <td>19.750000</td>\n",
       "      <td>0.000000</td>\n",
       "    </tr>\n",
       "    <tr>\n",
       "      <th>75%</th>\n",
       "      <td>5.000000</td>\n",
       "      <td>20.000000</td>\n",
       "      <td>55.960697</td>\n",
       "      <td>37.624235</td>\n",
       "      <td>55.962035</td>\n",
       "      <td>37.624145</td>\n",
       "      <td>30.694750</td>\n",
       "      <td>37.883000</td>\n",
       "      <td>1.000000</td>\n",
       "    </tr>\n",
       "    <tr>\n",
       "      <th>max</th>\n",
       "      <td>6.000000</td>\n",
       "      <td>23.000000</td>\n",
       "      <td>56.174097</td>\n",
       "      <td>38.280547</td>\n",
       "      <td>56.172361</td>\n",
       "      <td>38.243608</td>\n",
       "      <td>5234.283000</td>\n",
       "      <td>3958.283000</td>\n",
       "      <td>1.000000</td>\n",
       "    </tr>\n",
       "  </tbody>\n",
       "</table>\n",
       "</div>"
      ],
      "text/plain": [
       "        weekday_key      hour_key  driver_latitude  driver_longitude  \\\n",
       "count  99846.000000  99846.000000     99846.000000      99846.000000   \n",
       "mean       3.160087     13.826633        55.780883         37.546631   \n",
       "std        2.054477      7.308449         0.153851          0.157053   \n",
       "min        0.000000      0.000000        55.327636         36.984771   \n",
       "25%        1.000000      8.000000        55.709285         37.413497   \n",
       "50%        3.000000     16.000000        55.773085         37.533874   \n",
       "75%        5.000000     20.000000        55.960697         37.624235   \n",
       "max        6.000000     23.000000        56.174097         38.280547   \n",
       "\n",
       "       origin_order_latitude  origin_order_longitude   distance_km  \\\n",
       "count           99846.000000            99846.000000  99846.000000   \n",
       "mean               55.780195               37.546311     18.411756   \n",
       "std                 0.156106                0.159887     41.150869   \n",
       "min                55.327917               36.994072     -1.000000   \n",
       "25%                55.708502               37.407117     -1.000000   \n",
       "50%                55.772734               37.532189     10.441500   \n",
       "75%                55.962035               37.624145     30.694750   \n",
       "max                56.172361               38.243608   5234.283000   \n",
       "\n",
       "       duration_min  driver_response  \n",
       "count  99846.000000     99846.000000  \n",
       "mean      23.159030         0.491757  \n",
       "std       33.901266         0.499935  \n",
       "min       -1.000000         0.000000  \n",
       "25%       -1.000000         0.000000  \n",
       "50%       19.750000         0.000000  \n",
       "75%       37.883000         1.000000  \n",
       "max     3958.283000         1.000000  "
      ]
     },
     "execution_count": 254,
     "metadata": {},
     "output_type": "execute_result"
    }
   ],
   "source": [
    "df.describe()"
   ]
  },
  {
   "cell_type": "markdown",
   "metadata": {},
   "source": [
    "# Теперь у нас остались значени distance_km и duration_min со странными значениями -1. Проверим их."
   ]
  },
  {
   "cell_type": "code",
   "execution_count": 255,
   "metadata": {},
   "outputs": [
    {
     "data": {
      "text/plain": [
       "((26083, 11), (26083, 11))"
      ]
     },
     "execution_count": 255,
     "metadata": {},
     "output_type": "execute_result"
    }
   ],
   "source": [
    "df[df['distance_km'] == -1].shape, df[df['duration_min'] == -1].shape"
   ]
  },
  {
   "cell_type": "markdown",
   "metadata": {},
   "source": [
    "Таких строк больше 1\\4 от датасета. Удалять их в таком объеме нежелательно."
   ]
  },
  {
   "cell_type": "code",
   "execution_count": 256,
   "metadata": {},
   "outputs": [
    {
     "data": {
      "text/plain": [
       "((152, 11), (152, 11))"
      ]
     },
     "execution_count": 256,
     "metadata": {},
     "output_type": "execute_result"
    }
   ],
   "source": [
    "df[df['distance_km'] == 0].shape, df[df['duration_min'] == 0].shape"
   ]
  },
  {
   "cell_type": "markdown",
   "metadata": {},
   "source": [
    "Заказов с 0 километражом или длительностью немного. \n",
    "\n",
    "Сразу оговорюсь, что по значениям 0 и -1 для дистанции и дилтельности ситуация очень похожа на то, что люди отменяли заказы до приезда водителя или после него, как раньше это было с машинами Яндекс-Такси по просьбе самих водителей и из нежелания платить комиссию.\n",
    "\n",
    "По идее это действие происходит после приезда водителя и врядли влияет на его решение принять или не принять заказ, поэтому не будем пока трогать эти данные."
   ]
  },
  {
   "cell_type": "markdown",
   "metadata": {},
   "source": [
    "# Обработаем выбросы по дистанции поездки."
   ]
  },
  {
   "cell_type": "markdown",
   "metadata": {},
   "source": [
    "Как я уже писала ранее, в столбце дистанции ( и длительности, соответственно) есть максимальное значение, которое больше размеров какого-нибудь государства и сопоставимо  с радиусом Земли. При определенных условиях попробуем такие значения удалить из выборки. "
   ]
  },
  {
   "cell_type": "code",
   "execution_count": 257,
   "metadata": {},
   "outputs": [
    {
     "data": {
      "text/plain": [
       "(38, 11)"
      ]
     },
     "execution_count": 257,
     "metadata": {},
     "output_type": "execute_result"
    }
   ],
   "source": [
    "df[df['distance_km'] > 500].shape"
   ]
  },
  {
   "cell_type": "markdown",
   "metadata": {},
   "source": [
    "Цена 1км такси в Москве (а судя по координатам, это она) около 23 рублей, поэтому нас врядли интересуют поездки длиннее 500 км. Остальное, вероятно, выбросы."
   ]
  },
  {
   "cell_type": "code",
   "execution_count": 258,
   "metadata": {},
   "outputs": [],
   "source": [
    "\n",
    "df.drop(df[df['distance_km'] > 500].index, inplace=True)"
   ]
  },
  {
   "cell_type": "code",
   "execution_count": 259,
   "metadata": {},
   "outputs": [
    {
     "data": {
      "text/html": [
       "<div>\n",
       "<style scoped>\n",
       "    .dataframe tbody tr th:only-of-type {\n",
       "        vertical-align: middle;\n",
       "    }\n",
       "\n",
       "    .dataframe tbody tr th {\n",
       "        vertical-align: top;\n",
       "    }\n",
       "\n",
       "    .dataframe thead th {\n",
       "        text-align: right;\n",
       "    }\n",
       "</style>\n",
       "<table border=\"1\" class=\"dataframe\">\n",
       "  <thead>\n",
       "    <tr style=\"text-align: right;\">\n",
       "      <th></th>\n",
       "      <th>weekday_key</th>\n",
       "      <th>hour_key</th>\n",
       "      <th>driver_latitude</th>\n",
       "      <th>driver_longitude</th>\n",
       "      <th>origin_order_latitude</th>\n",
       "      <th>origin_order_longitude</th>\n",
       "      <th>distance_km</th>\n",
       "      <th>duration_min</th>\n",
       "      <th>driver_response</th>\n",
       "    </tr>\n",
       "  </thead>\n",
       "  <tbody>\n",
       "    <tr>\n",
       "      <th>count</th>\n",
       "      <td>99808.000000</td>\n",
       "      <td>99808.000000</td>\n",
       "      <td>99808.000000</td>\n",
       "      <td>99808.000000</td>\n",
       "      <td>99808.000000</td>\n",
       "      <td>99808.000000</td>\n",
       "      <td>99808.000000</td>\n",
       "      <td>99808.000000</td>\n",
       "      <td>99808.000000</td>\n",
       "    </tr>\n",
       "    <tr>\n",
       "      <th>mean</th>\n",
       "      <td>3.159977</td>\n",
       "      <td>13.825956</td>\n",
       "      <td>55.780898</td>\n",
       "      <td>37.546623</td>\n",
       "      <td>55.780209</td>\n",
       "      <td>37.546302</td>\n",
       "      <td>17.885343</td>\n",
       "      <td>22.768508</td>\n",
       "      <td>0.491654</td>\n",
       "    </tr>\n",
       "    <tr>\n",
       "      <th>std</th>\n",
       "      <td>2.054540</td>\n",
       "      <td>7.308594</td>\n",
       "      <td>0.153863</td>\n",
       "      <td>0.157056</td>\n",
       "      <td>0.156118</td>\n",
       "      <td>0.159889</td>\n",
       "      <td>21.133205</td>\n",
       "      <td>21.269468</td>\n",
       "      <td>0.499933</td>\n",
       "    </tr>\n",
       "    <tr>\n",
       "      <th>min</th>\n",
       "      <td>0.000000</td>\n",
       "      <td>0.000000</td>\n",
       "      <td>55.327636</td>\n",
       "      <td>36.984771</td>\n",
       "      <td>55.327917</td>\n",
       "      <td>36.994072</td>\n",
       "      <td>-1.000000</td>\n",
       "      <td>-1.000000</td>\n",
       "      <td>0.000000</td>\n",
       "    </tr>\n",
       "    <tr>\n",
       "      <th>25%</th>\n",
       "      <td>1.000000</td>\n",
       "      <td>8.000000</td>\n",
       "      <td>55.709280</td>\n",
       "      <td>37.413497</td>\n",
       "      <td>55.708502</td>\n",
       "      <td>37.407117</td>\n",
       "      <td>-1.000000</td>\n",
       "      <td>-1.000000</td>\n",
       "      <td>0.000000</td>\n",
       "    </tr>\n",
       "    <tr>\n",
       "      <th>50%</th>\n",
       "      <td>3.000000</td>\n",
       "      <td>16.000000</td>\n",
       "      <td>55.773110</td>\n",
       "      <td>37.533857</td>\n",
       "      <td>55.772744</td>\n",
       "      <td>37.532150</td>\n",
       "      <td>10.430500</td>\n",
       "      <td>19.733000</td>\n",
       "      <td>0.000000</td>\n",
       "    </tr>\n",
       "    <tr>\n",
       "      <th>75%</th>\n",
       "      <td>5.000000</td>\n",
       "      <td>20.000000</td>\n",
       "      <td>55.960718</td>\n",
       "      <td>37.624225</td>\n",
       "      <td>55.962038</td>\n",
       "      <td>37.624139</td>\n",
       "      <td>30.655250</td>\n",
       "      <td>37.867000</td>\n",
       "      <td>1.000000</td>\n",
       "    </tr>\n",
       "    <tr>\n",
       "      <th>max</th>\n",
       "      <td>6.000000</td>\n",
       "      <td>23.000000</td>\n",
       "      <td>56.174097</td>\n",
       "      <td>38.280547</td>\n",
       "      <td>56.172361</td>\n",
       "      <td>38.243608</td>\n",
       "      <td>448.072000</td>\n",
       "      <td>374.000000</td>\n",
       "      <td>1.000000</td>\n",
       "    </tr>\n",
       "  </tbody>\n",
       "</table>\n",
       "</div>"
      ],
      "text/plain": [
       "        weekday_key      hour_key  driver_latitude  driver_longitude  \\\n",
       "count  99808.000000  99808.000000     99808.000000      99808.000000   \n",
       "mean       3.159977     13.825956        55.780898         37.546623   \n",
       "std        2.054540      7.308594         0.153863          0.157056   \n",
       "min        0.000000      0.000000        55.327636         36.984771   \n",
       "25%        1.000000      8.000000        55.709280         37.413497   \n",
       "50%        3.000000     16.000000        55.773110         37.533857   \n",
       "75%        5.000000     20.000000        55.960718         37.624225   \n",
       "max        6.000000     23.000000        56.174097         38.280547   \n",
       "\n",
       "       origin_order_latitude  origin_order_longitude   distance_km  \\\n",
       "count           99808.000000            99808.000000  99808.000000   \n",
       "mean               55.780209               37.546302     17.885343   \n",
       "std                 0.156118                0.159889     21.133205   \n",
       "min                55.327917               36.994072     -1.000000   \n",
       "25%                55.708502               37.407117     -1.000000   \n",
       "50%                55.772744               37.532150     10.430500   \n",
       "75%                55.962038               37.624139     30.655250   \n",
       "max                56.172361               38.243608    448.072000   \n",
       "\n",
       "       duration_min  driver_response  \n",
       "count  99808.000000     99808.000000  \n",
       "mean      22.768508         0.491654  \n",
       "std       21.269468         0.499933  \n",
       "min       -1.000000         0.000000  \n",
       "25%       -1.000000         0.000000  \n",
       "50%       19.733000         0.000000  \n",
       "75%       37.867000         1.000000  \n",
       "max      374.000000         1.000000  "
      ]
     },
     "execution_count": 259,
     "metadata": {},
     "output_type": "execute_result"
    }
   ],
   "source": [
    "df.describe()"
   ]
  },
  {
   "cell_type": "markdown",
   "metadata": {},
   "source": [
    "Теперь данные выглядят более или менее прилично с точки зрения выбросов. Перейдем к категориальным признакам."
   ]
  },
  {
   "cell_type": "markdown",
   "metadata": {},
   "source": [
    "# Категориальные признаки"
   ]
  },
  {
   "cell_type": "code",
   "execution_count": 260,
   "metadata": {},
   "outputs": [
    {
     "data": {
      "text/plain": [
       "array(['Economy', 'Standard', 'XL', 'Kids', 'Delivery', 'Test', 'Premium',\n",
       "       'VIP', 'VIP+'], dtype=object)"
      ]
     },
     "execution_count": 260,
     "metadata": {},
     "output_type": "execute_result"
    }
   ],
   "source": [
    "df['offer_class_group'].unique()"
   ]
  },
  {
   "cell_type": "code",
   "execution_count": 261,
   "metadata": {},
   "outputs": [
    {
     "data": {
      "text/plain": [
       "array(['private', 'business', 'affiliate', 'SMB'], dtype=object)"
      ]
     },
     "execution_count": 261,
     "metadata": {},
     "output_type": "execute_result"
    }
   ],
   "source": [
    "df['ride_type_desc'].unique()"
   ]
  },
  {
   "cell_type": "code",
   "execution_count": 262,
   "metadata": {},
   "outputs": [
    {
     "data": {
      "text/plain": [
       "(8, 11)"
      ]
     },
     "execution_count": 262,
     "metadata": {},
     "output_type": "execute_result"
    }
   ],
   "source": [
    "df[df['offer_class_group'] == 'Test'].shape"
   ]
  },
  {
   "cell_type": "markdown",
   "metadata": {},
   "source": [
    "Очевидно, это какие-то тестовые данные. Если бы это были поездки по какой-то программе \"Первая поездка\", их было бы в сотни раз больше. Избавимся от этого."
   ]
  },
  {
   "cell_type": "code",
   "execution_count": 263,
   "metadata": {},
   "outputs": [],
   "source": [
    "df.drop(df[df['offer_class_group'] == 'Test'].index, inplace=True)"
   ]
  },
  {
   "cell_type": "markdown",
   "metadata": {},
   "source": [
    "Теперь разделим эти признаки при помощи подхода OneHotEncoding на пачку бинарных столбцов. Их не слишком много."
   ]
  },
  {
   "cell_type": "code",
   "execution_count": 264,
   "metadata": {},
   "outputs": [],
   "source": [
    "df = pd.get_dummies(df)"
   ]
  },
  {
   "cell_type": "code",
   "execution_count": 265,
   "metadata": {},
   "outputs": [
    {
     "data": {
      "text/html": [
       "<div>\n",
       "<style scoped>\n",
       "    .dataframe tbody tr th:only-of-type {\n",
       "        vertical-align: middle;\n",
       "    }\n",
       "\n",
       "    .dataframe tbody tr th {\n",
       "        vertical-align: top;\n",
       "    }\n",
       "\n",
       "    .dataframe thead th {\n",
       "        text-align: right;\n",
       "    }\n",
       "</style>\n",
       "<table border=\"1\" class=\"dataframe\">\n",
       "  <thead>\n",
       "    <tr style=\"text-align: right;\">\n",
       "      <th></th>\n",
       "      <th>weekday_key</th>\n",
       "      <th>hour_key</th>\n",
       "      <th>driver_latitude</th>\n",
       "      <th>driver_longitude</th>\n",
       "      <th>origin_order_latitude</th>\n",
       "      <th>origin_order_longitude</th>\n",
       "      <th>distance_km</th>\n",
       "      <th>duration_min</th>\n",
       "      <th>driver_response</th>\n",
       "      <th>offer_class_group_Delivery</th>\n",
       "      <th>...</th>\n",
       "      <th>offer_class_group_Kids</th>\n",
       "      <th>offer_class_group_Premium</th>\n",
       "      <th>offer_class_group_Standard</th>\n",
       "      <th>offer_class_group_VIP</th>\n",
       "      <th>offer_class_group_VIP+</th>\n",
       "      <th>offer_class_group_XL</th>\n",
       "      <th>ride_type_desc_SMB</th>\n",
       "      <th>ride_type_desc_affiliate</th>\n",
       "      <th>ride_type_desc_business</th>\n",
       "      <th>ride_type_desc_private</th>\n",
       "    </tr>\n",
       "  </thead>\n",
       "  <tbody>\n",
       "    <tr>\n",
       "      <th>0</th>\n",
       "      <td>5</td>\n",
       "      <td>20</td>\n",
       "      <td>55.818842</td>\n",
       "      <td>37.334562</td>\n",
       "      <td>55.814567</td>\n",
       "      <td>37.355010</td>\n",
       "      <td>-1.000</td>\n",
       "      <td>-1.000</td>\n",
       "      <td>0</td>\n",
       "      <td>0</td>\n",
       "      <td>...</td>\n",
       "      <td>0</td>\n",
       "      <td>0</td>\n",
       "      <td>0</td>\n",
       "      <td>0</td>\n",
       "      <td>0</td>\n",
       "      <td>0</td>\n",
       "      <td>0</td>\n",
       "      <td>0</td>\n",
       "      <td>0</td>\n",
       "      <td>1</td>\n",
       "    </tr>\n",
       "    <tr>\n",
       "      <th>1</th>\n",
       "      <td>5</td>\n",
       "      <td>14</td>\n",
       "      <td>55.805342</td>\n",
       "      <td>37.515023</td>\n",
       "      <td>55.819329</td>\n",
       "      <td>37.466398</td>\n",
       "      <td>18.802</td>\n",
       "      <td>25.217</td>\n",
       "      <td>1</td>\n",
       "      <td>0</td>\n",
       "      <td>...</td>\n",
       "      <td>0</td>\n",
       "      <td>0</td>\n",
       "      <td>1</td>\n",
       "      <td>0</td>\n",
       "      <td>0</td>\n",
       "      <td>0</td>\n",
       "      <td>0</td>\n",
       "      <td>0</td>\n",
       "      <td>0</td>\n",
       "      <td>1</td>\n",
       "    </tr>\n",
       "    <tr>\n",
       "      <th>2</th>\n",
       "      <td>6</td>\n",
       "      <td>14</td>\n",
       "      <td>55.813978</td>\n",
       "      <td>37.347688</td>\n",
       "      <td>55.814827</td>\n",
       "      <td>37.354074</td>\n",
       "      <td>6.747</td>\n",
       "      <td>9.800</td>\n",
       "      <td>0</td>\n",
       "      <td>0</td>\n",
       "      <td>...</td>\n",
       "      <td>0</td>\n",
       "      <td>0</td>\n",
       "      <td>0</td>\n",
       "      <td>0</td>\n",
       "      <td>0</td>\n",
       "      <td>0</td>\n",
       "      <td>0</td>\n",
       "      <td>0</td>\n",
       "      <td>0</td>\n",
       "      <td>1</td>\n",
       "    </tr>\n",
       "    <tr>\n",
       "      <th>3</th>\n",
       "      <td>2</td>\n",
       "      <td>6</td>\n",
       "      <td>55.745922</td>\n",
       "      <td>37.421748</td>\n",
       "      <td>55.743469</td>\n",
       "      <td>37.431130</td>\n",
       "      <td>-1.000</td>\n",
       "      <td>-1.000</td>\n",
       "      <td>1</td>\n",
       "      <td>0</td>\n",
       "      <td>...</td>\n",
       "      <td>0</td>\n",
       "      <td>0</td>\n",
       "      <td>0</td>\n",
       "      <td>0</td>\n",
       "      <td>0</td>\n",
       "      <td>0</td>\n",
       "      <td>0</td>\n",
       "      <td>0</td>\n",
       "      <td>0</td>\n",
       "      <td>1</td>\n",
       "    </tr>\n",
       "    <tr>\n",
       "      <th>4</th>\n",
       "      <td>4</td>\n",
       "      <td>16</td>\n",
       "      <td>55.803578</td>\n",
       "      <td>37.521602</td>\n",
       "      <td>55.812559</td>\n",
       "      <td>37.527407</td>\n",
       "      <td>12.383</td>\n",
       "      <td>19.250</td>\n",
       "      <td>1</td>\n",
       "      <td>0</td>\n",
       "      <td>...</td>\n",
       "      <td>0</td>\n",
       "      <td>0</td>\n",
       "      <td>0</td>\n",
       "      <td>0</td>\n",
       "      <td>0</td>\n",
       "      <td>0</td>\n",
       "      <td>0</td>\n",
       "      <td>0</td>\n",
       "      <td>0</td>\n",
       "      <td>1</td>\n",
       "    </tr>\n",
       "  </tbody>\n",
       "</table>\n",
       "<p>5 rows × 21 columns</p>\n",
       "</div>"
      ],
      "text/plain": [
       "   weekday_key  hour_key  driver_latitude  driver_longitude  \\\n",
       "0            5        20        55.818842         37.334562   \n",
       "1            5        14        55.805342         37.515023   \n",
       "2            6        14        55.813978         37.347688   \n",
       "3            2         6        55.745922         37.421748   \n",
       "4            4        16        55.803578         37.521602   \n",
       "\n",
       "   origin_order_latitude  origin_order_longitude  distance_km  duration_min  \\\n",
       "0              55.814567               37.355010       -1.000        -1.000   \n",
       "1              55.819329               37.466398       18.802        25.217   \n",
       "2              55.814827               37.354074        6.747         9.800   \n",
       "3              55.743469               37.431130       -1.000        -1.000   \n",
       "4              55.812559               37.527407       12.383        19.250   \n",
       "\n",
       "   driver_response  offer_class_group_Delivery  ...  offer_class_group_Kids  \\\n",
       "0                0                           0  ...                       0   \n",
       "1                1                           0  ...                       0   \n",
       "2                0                           0  ...                       0   \n",
       "3                1                           0  ...                       0   \n",
       "4                1                           0  ...                       0   \n",
       "\n",
       "   offer_class_group_Premium  offer_class_group_Standard  \\\n",
       "0                          0                           0   \n",
       "1                          0                           1   \n",
       "2                          0                           0   \n",
       "3                          0                           0   \n",
       "4                          0                           0   \n",
       "\n",
       "   offer_class_group_VIP  offer_class_group_VIP+  offer_class_group_XL  \\\n",
       "0                      0                       0                     0   \n",
       "1                      0                       0                     0   \n",
       "2                      0                       0                     0   \n",
       "3                      0                       0                     0   \n",
       "4                      0                       0                     0   \n",
       "\n",
       "   ride_type_desc_SMB  ride_type_desc_affiliate  ride_type_desc_business  \\\n",
       "0                   0                         0                        0   \n",
       "1                   0                         0                        0   \n",
       "2                   0                         0                        0   \n",
       "3                   0                         0                        0   \n",
       "4                   0                         0                        0   \n",
       "\n",
       "   ride_type_desc_private  \n",
       "0                       1  \n",
       "1                       1  \n",
       "2                       1  \n",
       "3                       1  \n",
       "4                       1  \n",
       "\n",
       "[5 rows x 21 columns]"
      ]
     },
     "execution_count": 265,
     "metadata": {},
     "output_type": "execute_result"
    }
   ],
   "source": [
    "df.head()"
   ]
  },
  {
   "cell_type": "markdown",
   "metadata": {},
   "source": [
    "# Обработаем расстояния"
   ]
  },
  {
   "cell_type": "markdown",
   "metadata": {},
   "source": [
    "Т.к. мы избавилимь от некорректных значений в ширине и долготе обоих участников наших поездок, то можем сделать в упрощенном виде оценку расстояния от А до Б. Это позволит нам удалить сразу 4 столбца и свести их в 1."
   ]
  },
  {
   "cell_type": "code",
   "execution_count": 266,
   "metadata": {},
   "outputs": [],
   "source": [
    "def distance_len(row):\n",
    "    \"\"\"\n",
    "    Посчитаем расстояние между водителем и потенциальным пассажиром в упрощенном виде \n",
    "    (не по расстоянию гугл-карт или Яндекс-карт,  а векторное). Простите, очень лень заморачиваться с АПИ =(\n",
    "    \"\"\"\n",
    "    return np.linalg.norm([\n",
    "        row['driver_latitude'] - row['origin_order_latitude'],\n",
    "        row['driver_longitude'] - row['origin_order_longitude'],\n",
    "    ])"
   ]
  },
  {
   "cell_type": "code",
   "execution_count": 267,
   "metadata": {},
   "outputs": [],
   "source": [
    "df['distance_between_driver_origin'] = df.apply(distance_len, axis=1)"
   ]
  },
  {
   "cell_type": "code",
   "execution_count": 268,
   "metadata": {},
   "outputs": [
    {
     "data": {
      "text/plain": [
       "0    0.020890\n",
       "1    0.050597\n",
       "2    0.006442\n",
       "3    0.009697\n",
       "4    0.010694\n",
       "5    0.008095\n",
       "6    0.005991\n",
       "7    0.055239\n",
       "8    0.046738\n",
       "9    0.060544\n",
       "Name: distance_between_driver_origin, dtype: float64"
      ]
     },
     "execution_count": 268,
     "metadata": {},
     "output_type": "execute_result"
    }
   ],
   "source": [
    "df['distance_between_driver_origin'].head(10)"
   ]
  },
  {
   "cell_type": "markdown",
   "metadata": {},
   "source": [
    "Видимо, что-то получилось. Удалим ширину-долготу."
   ]
  },
  {
   "cell_type": "code",
   "execution_count": 269,
   "metadata": {},
   "outputs": [],
   "source": [
    "df.drop(['driver_latitude', 'driver_longitude', 'origin_order_latitude', 'origin_order_longitude'], axis=1, inplace=True)"
   ]
  },
  {
   "cell_type": "markdown",
   "metadata": {},
   "source": [
    "# Кореляции"
   ]
  },
  {
   "cell_type": "code",
   "execution_count": 270,
   "metadata": {},
   "outputs": [
    {
     "data": {
      "image/png": "[encoded data removed]",
      "text/plain": [
       "<Figure size 1440x1440 with 2 Axes>"
      ]
     },
     "metadata": {
      "needs_background": "light"
     },
     "output_type": "display_data"
    }
   ],
   "source": [
    "plt.figure(figsize=(20, 20))\n",
    "\n",
    "sns.heatmap(df.corr(method='spearman'), annot=True, linewidths=0.5, cmap='BuPu')\n",
    "plt.show()"
   ]
  },
  {
   "cell_type": "markdown",
   "metadata": {},
   "source": [
    "Видим, что у нас больашя кореляция между Расстоянием и Дительностью (порядка 99%), а также между некоторыми типами поездки и классами."
   ]
  },
  {
   "cell_type": "markdown",
   "metadata": {},
   "source": [
    "Т.о. видим, что формально можно удалить из модели такие параметры, как duration_min, offer_class_group_Economy, ride_type_desc_business.\n",
    "UPD. Если удалить, то модель дает на 1% меньше точность. Не удаляем=)"
   ]
  },
  {
   "cell_type": "code",
   "execution_count": 271,
   "metadata": {},
   "outputs": [],
   "source": [
    "rfc = RandomForestClassifier(n_estimators=200)"
   ]
  },
  {
   "cell_type": "code",
   "execution_count": 272,
   "metadata": {},
   "outputs": [],
   "source": [
    "X = df.drop(['driver_response'], axis=1)\n",
    "Y = df['driver_response']\n",
    "\n",
    "X_train, X_test, Y_train, Y_test = train_test_split(X, Y, test_size=0.3)"
   ]
  },
  {
   "cell_type": "code",
   "execution_count": 273,
   "metadata": {},
   "outputs": [
    {
     "data": {
      "text/plain": [
       "((69860, 17), (29940, 17), (69860,), (29940,))"
      ]
     },
     "execution_count": 273,
     "metadata": {},
     "output_type": "execute_result"
    }
   ],
   "source": [
    "X_train.shape, X_test.shape, Y_train.shape, Y_test.shape"
   ]
  },
  {
   "cell_type": "code",
   "execution_count": 274,
   "metadata": {},
   "outputs": [
    {
     "data": {
      "text/plain": [
       "RandomForestClassifier(bootstrap=True, class_weight=None, criterion='gini',\n",
       "                       max_depth=None, max_features='auto', max_leaf_nodes=None,\n",
       "                       min_impurity_decrease=0.0, min_impurity_split=None,\n",
       "                       min_samples_leaf=1, min_samples_split=2,\n",
       "                       min_weight_fraction_leaf=0.0, n_estimators=200,\n",
       "                       n_jobs=None, oob_score=False, random_state=None,\n",
       "                       verbose=0, warm_start=False)"
      ]
     },
     "execution_count": 274,
     "metadata": {},
     "output_type": "execute_result"
    }
   ],
   "source": [
    "rfc.fit(X_train, Y_train)"
   ]
  },
  {
   "cell_type": "code",
   "execution_count": 275,
   "metadata": {},
   "outputs": [
    {
     "data": {
      "text/plain": [
       "0.7036740146960588"
      ]
     },
     "execution_count": 275,
     "metadata": {},
     "output_type": "execute_result"
    }
   ],
   "source": [
    "rfc.score(X_test, Y_test)"
   ]
  },
  {
   "cell_type": "markdown",
   "metadata": {},
   "source": [
    "Как вариант - можно столбец weekday_key и hour_key разделить на будние и выходные и день-ночь.\n",
    "Попробуем."
   ]
  },
  {
   "cell_type": "code",
   "execution_count": 276,
   "metadata": {},
   "outputs": [],
   "source": [
    "ferials = [1,2,3,4,5]\n",
    "df['ferial'] = np.where(np.isin(df.weekday_key, ferials), 1, 0)"
   ]
  },
  {
   "cell_type": "code",
   "execution_count": 277,
   "metadata": {
    "scrolled": true
   },
   "outputs": [
    {
     "data": {
      "text/html": [
       "<div>\n",
       "<style scoped>\n",
       "    .dataframe tbody tr th:only-of-type {\n",
       "        vertical-align: middle;\n",
       "    }\n",
       "\n",
       "    .dataframe tbody tr th {\n",
       "        vertical-align: top;\n",
       "    }\n",
       "\n",
       "    .dataframe thead th {\n",
       "        text-align: right;\n",
       "    }\n",
       "</style>\n",
       "<table border=\"1\" class=\"dataframe\">\n",
       "  <thead>\n",
       "    <tr style=\"text-align: right;\">\n",
       "      <th></th>\n",
       "      <th>weekday_key</th>\n",
       "      <th>hour_key</th>\n",
       "      <th>distance_km</th>\n",
       "      <th>duration_min</th>\n",
       "      <th>driver_response</th>\n",
       "      <th>offer_class_group_Delivery</th>\n",
       "      <th>offer_class_group_Economy</th>\n",
       "      <th>offer_class_group_Kids</th>\n",
       "      <th>offer_class_group_Premium</th>\n",
       "      <th>offer_class_group_Standard</th>\n",
       "      <th>offer_class_group_VIP</th>\n",
       "      <th>offer_class_group_VIP+</th>\n",
       "      <th>offer_class_group_XL</th>\n",
       "      <th>ride_type_desc_SMB</th>\n",
       "      <th>ride_type_desc_affiliate</th>\n",
       "      <th>ride_type_desc_business</th>\n",
       "      <th>ride_type_desc_private</th>\n",
       "      <th>distance_between_driver_origin</th>\n",
       "      <th>ferial</th>\n",
       "    </tr>\n",
       "  </thead>\n",
       "  <tbody>\n",
       "    <tr>\n",
       "      <th>0</th>\n",
       "      <td>5</td>\n",
       "      <td>20</td>\n",
       "      <td>-1.000</td>\n",
       "      <td>-1.000</td>\n",
       "      <td>0</td>\n",
       "      <td>0</td>\n",
       "      <td>1</td>\n",
       "      <td>0</td>\n",
       "      <td>0</td>\n",
       "      <td>0</td>\n",
       "      <td>0</td>\n",
       "      <td>0</td>\n",
       "      <td>0</td>\n",
       "      <td>0</td>\n",
       "      <td>0</td>\n",
       "      <td>0</td>\n",
       "      <td>1</td>\n",
       "      <td>0.020890</td>\n",
       "      <td>1</td>\n",
       "    </tr>\n",
       "    <tr>\n",
       "      <th>1</th>\n",
       "      <td>5</td>\n",
       "      <td>14</td>\n",
       "      <td>18.802</td>\n",
       "      <td>25.217</td>\n",
       "      <td>1</td>\n",
       "      <td>0</td>\n",
       "      <td>0</td>\n",
       "      <td>0</td>\n",
       "      <td>0</td>\n",
       "      <td>1</td>\n",
       "      <td>0</td>\n",
       "      <td>0</td>\n",
       "      <td>0</td>\n",
       "      <td>0</td>\n",
       "      <td>0</td>\n",
       "      <td>0</td>\n",
       "      <td>1</td>\n",
       "      <td>0.050597</td>\n",
       "      <td>1</td>\n",
       "    </tr>\n",
       "    <tr>\n",
       "      <th>2</th>\n",
       "      <td>6</td>\n",
       "      <td>14</td>\n",
       "      <td>6.747</td>\n",
       "      <td>9.800</td>\n",
       "      <td>0</td>\n",
       "      <td>0</td>\n",
       "      <td>1</td>\n",
       "      <td>0</td>\n",
       "      <td>0</td>\n",
       "      <td>0</td>\n",
       "      <td>0</td>\n",
       "      <td>0</td>\n",
       "      <td>0</td>\n",
       "      <td>0</td>\n",
       "      <td>0</td>\n",
       "      <td>0</td>\n",
       "      <td>1</td>\n",
       "      <td>0.006442</td>\n",
       "      <td>0</td>\n",
       "    </tr>\n",
       "    <tr>\n",
       "      <th>3</th>\n",
       "      <td>2</td>\n",
       "      <td>6</td>\n",
       "      <td>-1.000</td>\n",
       "      <td>-1.000</td>\n",
       "      <td>1</td>\n",
       "      <td>0</td>\n",
       "      <td>1</td>\n",
       "      <td>0</td>\n",
       "      <td>0</td>\n",
       "      <td>0</td>\n",
       "      <td>0</td>\n",
       "      <td>0</td>\n",
       "      <td>0</td>\n",
       "      <td>0</td>\n",
       "      <td>0</td>\n",
       "      <td>0</td>\n",
       "      <td>1</td>\n",
       "      <td>0.009697</td>\n",
       "      <td>1</td>\n",
       "    </tr>\n",
       "    <tr>\n",
       "      <th>4</th>\n",
       "      <td>4</td>\n",
       "      <td>16</td>\n",
       "      <td>12.383</td>\n",
       "      <td>19.250</td>\n",
       "      <td>1</td>\n",
       "      <td>0</td>\n",
       "      <td>1</td>\n",
       "      <td>0</td>\n",
       "      <td>0</td>\n",
       "      <td>0</td>\n",
       "      <td>0</td>\n",
       "      <td>0</td>\n",
       "      <td>0</td>\n",
       "      <td>0</td>\n",
       "      <td>0</td>\n",
       "      <td>0</td>\n",
       "      <td>1</td>\n",
       "      <td>0.010694</td>\n",
       "      <td>1</td>\n",
       "    </tr>\n",
       "    <tr>\n",
       "      <th>5</th>\n",
       "      <td>6</td>\n",
       "      <td>15</td>\n",
       "      <td>6.747</td>\n",
       "      <td>9.800</td>\n",
       "      <td>0</td>\n",
       "      <td>0</td>\n",
       "      <td>1</td>\n",
       "      <td>0</td>\n",
       "      <td>0</td>\n",
       "      <td>0</td>\n",
       "      <td>0</td>\n",
       "      <td>0</td>\n",
       "      <td>0</td>\n",
       "      <td>0</td>\n",
       "      <td>0</td>\n",
       "      <td>0</td>\n",
       "      <td>1</td>\n",
       "      <td>0.008095</td>\n",
       "      <td>0</td>\n",
       "    </tr>\n",
       "    <tr>\n",
       "      <th>6</th>\n",
       "      <td>2</td>\n",
       "      <td>11</td>\n",
       "      <td>-1.000</td>\n",
       "      <td>-1.000</td>\n",
       "      <td>1</td>\n",
       "      <td>0</td>\n",
       "      <td>0</td>\n",
       "      <td>0</td>\n",
       "      <td>0</td>\n",
       "      <td>1</td>\n",
       "      <td>0</td>\n",
       "      <td>0</td>\n",
       "      <td>0</td>\n",
       "      <td>0</td>\n",
       "      <td>0</td>\n",
       "      <td>1</td>\n",
       "      <td>0</td>\n",
       "      <td>0.005991</td>\n",
       "      <td>1</td>\n",
       "    </tr>\n",
       "    <tr>\n",
       "      <th>7</th>\n",
       "      <td>5</td>\n",
       "      <td>20</td>\n",
       "      <td>1.517</td>\n",
       "      <td>3.933</td>\n",
       "      <td>0</td>\n",
       "      <td>0</td>\n",
       "      <td>1</td>\n",
       "      <td>0</td>\n",
       "      <td>0</td>\n",
       "      <td>0</td>\n",
       "      <td>0</td>\n",
       "      <td>0</td>\n",
       "      <td>0</td>\n",
       "      <td>0</td>\n",
       "      <td>0</td>\n",
       "      <td>0</td>\n",
       "      <td>1</td>\n",
       "      <td>0.055239</td>\n",
       "      <td>1</td>\n",
       "    </tr>\n",
       "    <tr>\n",
       "      <th>8</th>\n",
       "      <td>5</td>\n",
       "      <td>20</td>\n",
       "      <td>6.222</td>\n",
       "      <td>15.433</td>\n",
       "      <td>0</td>\n",
       "      <td>0</td>\n",
       "      <td>1</td>\n",
       "      <td>0</td>\n",
       "      <td>0</td>\n",
       "      <td>0</td>\n",
       "      <td>0</td>\n",
       "      <td>0</td>\n",
       "      <td>0</td>\n",
       "      <td>0</td>\n",
       "      <td>0</td>\n",
       "      <td>0</td>\n",
       "      <td>1</td>\n",
       "      <td>0.046738</td>\n",
       "      <td>1</td>\n",
       "    </tr>\n",
       "    <tr>\n",
       "      <th>9</th>\n",
       "      <td>6</td>\n",
       "      <td>7</td>\n",
       "      <td>10.410</td>\n",
       "      <td>23.083</td>\n",
       "      <td>0</td>\n",
       "      <td>0</td>\n",
       "      <td>1</td>\n",
       "      <td>0</td>\n",
       "      <td>0</td>\n",
       "      <td>0</td>\n",
       "      <td>0</td>\n",
       "      <td>0</td>\n",
       "      <td>0</td>\n",
       "      <td>0</td>\n",
       "      <td>0</td>\n",
       "      <td>0</td>\n",
       "      <td>1</td>\n",
       "      <td>0.060544</td>\n",
       "      <td>0</td>\n",
       "    </tr>\n",
       "    <tr>\n",
       "      <th>10</th>\n",
       "      <td>6</td>\n",
       "      <td>11</td>\n",
       "      <td>27.641</td>\n",
       "      <td>29.567</td>\n",
       "      <td>0</td>\n",
       "      <td>0</td>\n",
       "      <td>1</td>\n",
       "      <td>0</td>\n",
       "      <td>0</td>\n",
       "      <td>0</td>\n",
       "      <td>0</td>\n",
       "      <td>0</td>\n",
       "      <td>0</td>\n",
       "      <td>0</td>\n",
       "      <td>0</td>\n",
       "      <td>0</td>\n",
       "      <td>1</td>\n",
       "      <td>0.052866</td>\n",
       "      <td>0</td>\n",
       "    </tr>\n",
       "    <tr>\n",
       "      <th>11</th>\n",
       "      <td>3</td>\n",
       "      <td>7</td>\n",
       "      <td>16.683</td>\n",
       "      <td>25.633</td>\n",
       "      <td>0</td>\n",
       "      <td>0</td>\n",
       "      <td>1</td>\n",
       "      <td>0</td>\n",
       "      <td>0</td>\n",
       "      <td>0</td>\n",
       "      <td>0</td>\n",
       "      <td>0</td>\n",
       "      <td>0</td>\n",
       "      <td>0</td>\n",
       "      <td>0</td>\n",
       "      <td>0</td>\n",
       "      <td>1</td>\n",
       "      <td>0.042616</td>\n",
       "      <td>1</td>\n",
       "    </tr>\n",
       "    <tr>\n",
       "      <th>12</th>\n",
       "      <td>6</td>\n",
       "      <td>14</td>\n",
       "      <td>7.733</td>\n",
       "      <td>10.617</td>\n",
       "      <td>0</td>\n",
       "      <td>0</td>\n",
       "      <td>1</td>\n",
       "      <td>0</td>\n",
       "      <td>0</td>\n",
       "      <td>0</td>\n",
       "      <td>0</td>\n",
       "      <td>0</td>\n",
       "      <td>0</td>\n",
       "      <td>0</td>\n",
       "      <td>0</td>\n",
       "      <td>0</td>\n",
       "      <td>1</td>\n",
       "      <td>0.025782</td>\n",
       "      <td>0</td>\n",
       "    </tr>\n",
       "    <tr>\n",
       "      <th>13</th>\n",
       "      <td>3</td>\n",
       "      <td>6</td>\n",
       "      <td>58.527</td>\n",
       "      <td>67.317</td>\n",
       "      <td>1</td>\n",
       "      <td>0</td>\n",
       "      <td>0</td>\n",
       "      <td>0</td>\n",
       "      <td>0</td>\n",
       "      <td>1</td>\n",
       "      <td>0</td>\n",
       "      <td>0</td>\n",
       "      <td>0</td>\n",
       "      <td>0</td>\n",
       "      <td>0</td>\n",
       "      <td>0</td>\n",
       "      <td>1</td>\n",
       "      <td>0.013588</td>\n",
       "      <td>1</td>\n",
       "    </tr>\n",
       "    <tr>\n",
       "      <th>14</th>\n",
       "      <td>5</td>\n",
       "      <td>10</td>\n",
       "      <td>2.530</td>\n",
       "      <td>8.450</td>\n",
       "      <td>1</td>\n",
       "      <td>0</td>\n",
       "      <td>0</td>\n",
       "      <td>0</td>\n",
       "      <td>0</td>\n",
       "      <td>1</td>\n",
       "      <td>0</td>\n",
       "      <td>0</td>\n",
       "      <td>0</td>\n",
       "      <td>0</td>\n",
       "      <td>0</td>\n",
       "      <td>0</td>\n",
       "      <td>1</td>\n",
       "      <td>0.004868</td>\n",
       "      <td>1</td>\n",
       "    </tr>\n",
       "    <tr>\n",
       "      <th>15</th>\n",
       "      <td>2</td>\n",
       "      <td>12</td>\n",
       "      <td>6.446</td>\n",
       "      <td>24.050</td>\n",
       "      <td>1</td>\n",
       "      <td>0</td>\n",
       "      <td>0</td>\n",
       "      <td>0</td>\n",
       "      <td>0</td>\n",
       "      <td>1</td>\n",
       "      <td>0</td>\n",
       "      <td>0</td>\n",
       "      <td>0</td>\n",
       "      <td>0</td>\n",
       "      <td>0</td>\n",
       "      <td>0</td>\n",
       "      <td>1</td>\n",
       "      <td>0.003222</td>\n",
       "      <td>1</td>\n",
       "    </tr>\n",
       "    <tr>\n",
       "      <th>16</th>\n",
       "      <td>5</td>\n",
       "      <td>7</td>\n",
       "      <td>18.012</td>\n",
       "      <td>31.850</td>\n",
       "      <td>0</td>\n",
       "      <td>0</td>\n",
       "      <td>1</td>\n",
       "      <td>0</td>\n",
       "      <td>0</td>\n",
       "      <td>0</td>\n",
       "      <td>0</td>\n",
       "      <td>0</td>\n",
       "      <td>0</td>\n",
       "      <td>0</td>\n",
       "      <td>0</td>\n",
       "      <td>0</td>\n",
       "      <td>1</td>\n",
       "      <td>0.042924</td>\n",
       "      <td>1</td>\n",
       "    </tr>\n",
       "    <tr>\n",
       "      <th>17</th>\n",
       "      <td>1</td>\n",
       "      <td>7</td>\n",
       "      <td>8.257</td>\n",
       "      <td>16.633</td>\n",
       "      <td>0</td>\n",
       "      <td>0</td>\n",
       "      <td>1</td>\n",
       "      <td>0</td>\n",
       "      <td>0</td>\n",
       "      <td>0</td>\n",
       "      <td>0</td>\n",
       "      <td>0</td>\n",
       "      <td>0</td>\n",
       "      <td>0</td>\n",
       "      <td>0</td>\n",
       "      <td>0</td>\n",
       "      <td>1</td>\n",
       "      <td>0.009799</td>\n",
       "      <td>1</td>\n",
       "    </tr>\n",
       "    <tr>\n",
       "      <th>18</th>\n",
       "      <td>5</td>\n",
       "      <td>20</td>\n",
       "      <td>1.517</td>\n",
       "      <td>3.933</td>\n",
       "      <td>1</td>\n",
       "      <td>0</td>\n",
       "      <td>0</td>\n",
       "      <td>0</td>\n",
       "      <td>0</td>\n",
       "      <td>1</td>\n",
       "      <td>0</td>\n",
       "      <td>0</td>\n",
       "      <td>0</td>\n",
       "      <td>0</td>\n",
       "      <td>0</td>\n",
       "      <td>0</td>\n",
       "      <td>1</td>\n",
       "      <td>0.040478</td>\n",
       "      <td>1</td>\n",
       "    </tr>\n",
       "    <tr>\n",
       "      <th>19</th>\n",
       "      <td>5</td>\n",
       "      <td>8</td>\n",
       "      <td>-1.000</td>\n",
       "      <td>-1.000</td>\n",
       "      <td>0</td>\n",
       "      <td>0</td>\n",
       "      <td>0</td>\n",
       "      <td>0</td>\n",
       "      <td>0</td>\n",
       "      <td>1</td>\n",
       "      <td>0</td>\n",
       "      <td>0</td>\n",
       "      <td>0</td>\n",
       "      <td>0</td>\n",
       "      <td>0</td>\n",
       "      <td>1</td>\n",
       "      <td>0</td>\n",
       "      <td>0.008115</td>\n",
       "      <td>1</td>\n",
       "    </tr>\n",
       "  </tbody>\n",
       "</table>\n",
       "</div>"
      ],
      "text/plain": [
       "    weekday_key  hour_key  distance_km  duration_min  driver_response  \\\n",
       "0             5        20       -1.000        -1.000                0   \n",
       "1             5        14       18.802        25.217                1   \n",
       "2             6        14        6.747         9.800                0   \n",
       "3             2         6       -1.000        -1.000                1   \n",
       "4             4        16       12.383        19.250                1   \n",
       "5             6        15        6.747         9.800                0   \n",
       "6             2        11       -1.000        -1.000                1   \n",
       "7             5        20        1.517         3.933                0   \n",
       "8             5        20        6.222        15.433                0   \n",
       "9             6         7       10.410        23.083                0   \n",
       "10            6        11       27.641        29.567                0   \n",
       "11            3         7       16.683        25.633                0   \n",
       "12            6        14        7.733        10.617                0   \n",
       "13            3         6       58.527        67.317                1   \n",
       "14            5        10        2.530         8.450                1   \n",
       "15            2        12        6.446        24.050                1   \n",
       "16            5         7       18.012        31.850                0   \n",
       "17            1         7        8.257        16.633                0   \n",
       "18            5        20        1.517         3.933                1   \n",
       "19            5         8       -1.000        -1.000                0   \n",
       "\n",
       "    offer_class_group_Delivery  offer_class_group_Economy  \\\n",
       "0                            0                          1   \n",
       "1                            0                          0   \n",
       "2                            0                          1   \n",
       "3                            0                          1   \n",
       "4                            0                          1   \n",
       "5                            0                          1   \n",
       "6                            0                          0   \n",
       "7                            0                          1   \n",
       "8                            0                          1   \n",
       "9                            0                          1   \n",
       "10                           0                          1   \n",
       "11                           0                          1   \n",
       "12                           0                          1   \n",
       "13                           0                          0   \n",
       "14                           0                          0   \n",
       "15                           0                          0   \n",
       "16                           0                          1   \n",
       "17                           0                          1   \n",
       "18                           0                          0   \n",
       "19                           0                          0   \n",
       "\n",
       "    offer_class_group_Kids  offer_class_group_Premium  \\\n",
       "0                        0                          0   \n",
       "1                        0                          0   \n",
       "2                        0                          0   \n",
       "3                        0                          0   \n",
       "4                        0                          0   \n",
       "5                        0                          0   \n",
       "6                        0                          0   \n",
       "7                        0                          0   \n",
       "8                        0                          0   \n",
       "9                        0                          0   \n",
       "10                       0                          0   \n",
       "11                       0                          0   \n",
       "12                       0                          0   \n",
       "13                       0                          0   \n",
       "14                       0                          0   \n",
       "15                       0                          0   \n",
       "16                       0                          0   \n",
       "17                       0                          0   \n",
       "18                       0                          0   \n",
       "19                       0                          0   \n",
       "\n",
       "    offer_class_group_Standard  offer_class_group_VIP  offer_class_group_VIP+  \\\n",
       "0                            0                      0                       0   \n",
       "1                            1                      0                       0   \n",
       "2                            0                      0                       0   \n",
       "3                            0                      0                       0   \n",
       "4                            0                      0                       0   \n",
       "5                            0                      0                       0   \n",
       "6                            1                      0                       0   \n",
       "7                            0                      0                       0   \n",
       "8                            0                      0                       0   \n",
       "9                            0                      0                       0   \n",
       "10                           0                      0                       0   \n",
       "11                           0                      0                       0   \n",
       "12                           0                      0                       0   \n",
       "13                           1                      0                       0   \n",
       "14                           1                      0                       0   \n",
       "15                           1                      0                       0   \n",
       "16                           0                      0                       0   \n",
       "17                           0                      0                       0   \n",
       "18                           1                      0                       0   \n",
       "19                           1                      0                       0   \n",
       "\n",
       "    offer_class_group_XL  ride_type_desc_SMB  ride_type_desc_affiliate  \\\n",
       "0                      0                   0                         0   \n",
       "1                      0                   0                         0   \n",
       "2                      0                   0                         0   \n",
       "3                      0                   0                         0   \n",
       "4                      0                   0                         0   \n",
       "5                      0                   0                         0   \n",
       "6                      0                   0                         0   \n",
       "7                      0                   0                         0   \n",
       "8                      0                   0                         0   \n",
       "9                      0                   0                         0   \n",
       "10                     0                   0                         0   \n",
       "11                     0                   0                         0   \n",
       "12                     0                   0                         0   \n",
       "13                     0                   0                         0   \n",
       "14                     0                   0                         0   \n",
       "15                     0                   0                         0   \n",
       "16                     0                   0                         0   \n",
       "17                     0                   0                         0   \n",
       "18                     0                   0                         0   \n",
       "19                     0                   0                         0   \n",
       "\n",
       "    ride_type_desc_business  ride_type_desc_private  \\\n",
       "0                         0                       1   \n",
       "1                         0                       1   \n",
       "2                         0                       1   \n",
       "3                         0                       1   \n",
       "4                         0                       1   \n",
       "5                         0                       1   \n",
       "6                         1                       0   \n",
       "7                         0                       1   \n",
       "8                         0                       1   \n",
       "9                         0                       1   \n",
       "10                        0                       1   \n",
       "11                        0                       1   \n",
       "12                        0                       1   \n",
       "13                        0                       1   \n",
       "14                        0                       1   \n",
       "15                        0                       1   \n",
       "16                        0                       1   \n",
       "17                        0                       1   \n",
       "18                        0                       1   \n",
       "19                        1                       0   \n",
       "\n",
       "    distance_between_driver_origin  ferial  \n",
       "0                         0.020890       1  \n",
       "1                         0.050597       1  \n",
       "2                         0.006442       0  \n",
       "3                         0.009697       1  \n",
       "4                         0.010694       1  \n",
       "5                         0.008095       0  \n",
       "6                         0.005991       1  \n",
       "7                         0.055239       1  \n",
       "8                         0.046738       1  \n",
       "9                         0.060544       0  \n",
       "10                        0.052866       0  \n",
       "11                        0.042616       1  \n",
       "12                        0.025782       0  \n",
       "13                        0.013588       1  \n",
       "14                        0.004868       1  \n",
       "15                        0.003222       1  \n",
       "16                        0.042924       1  \n",
       "17                        0.009799       1  \n",
       "18                        0.040478       1  \n",
       "19                        0.008115       1  "
      ]
     },
     "execution_count": 277,
     "metadata": {},
     "output_type": "execute_result"
    }
   ],
   "source": [
    "df.head(20)"
   ]
  },
  {
   "cell_type": "code",
   "execution_count": 278,
   "metadata": {},
   "outputs": [],
   "source": [
    "def night_class(row):\n",
    "    if row['hour_key'] >= 22 or row['hour_key'] <=7:\n",
    "        return 1\n",
    "    else:\n",
    "        return 0"
   ]
  },
  {
   "cell_type": "code",
   "execution_count": 279,
   "metadata": {},
   "outputs": [],
   "source": [
    "df['hight_class'] = df.apply(night_class, axis=1)"
   ]
  },
  {
   "cell_type": "code",
   "execution_count": 280,
   "metadata": {},
   "outputs": [],
   "source": [
    "df.drop(['hour_key', 'weekday_key'], axis=1, inplace=True)"
   ]
  },
  {
   "cell_type": "code",
   "execution_count": 281,
   "metadata": {},
   "outputs": [
    {
     "data": {
      "image/png": "[encoded data removed]",
      "text/plain": [
       "<Figure size 1440x1440 with 2 Axes>"
      ]
     },
     "metadata": {
      "needs_background": "light"
     },
     "output_type": "display_data"
    }
   ],
   "source": [
    "plt.figure(figsize=(20, 20))\n",
    "\n",
    "sns.heatmap(df.corr(method='spearman'), annot=True, linewidths=0.5, cmap='BuPu')\n",
    "plt.show()"
   ]
  },
  {
   "cell_type": "code",
   "execution_count": 282,
   "metadata": {},
   "outputs": [],
   "source": [
    "rfc2 = RandomForestClassifier(n_estimators=200)"
   ]
  },
  {
   "cell_type": "code",
   "execution_count": 283,
   "metadata": {},
   "outputs": [],
   "source": [
    "X = df.drop(['driver_response'], axis=1)\n",
    "Y = df['driver_response']\n",
    "\n",
    "X_train, X_test, Y_train, Y_test = train_test_split(X, Y, test_size=0.3)"
   ]
  },
  {
   "cell_type": "code",
   "execution_count": 284,
   "metadata": {},
   "outputs": [
    {
     "data": {
      "text/plain": [
       "((69860, 17), (29940, 17), (69860,), (29940,))"
      ]
     },
     "execution_count": 284,
     "metadata": {},
     "output_type": "execute_result"
    }
   ],
   "source": [
    "X_train.shape, X_test.shape, Y_train.shape, Y_test.shape"
   ]
  },
  {
   "cell_type": "code",
   "execution_count": 285,
   "metadata": {},
   "outputs": [
    {
     "data": {
      "text/plain": [
       "RandomForestClassifier(bootstrap=True, class_weight=None, criterion='gini',\n",
       "                       max_depth=None, max_features='auto', max_leaf_nodes=None,\n",
       "                       min_impurity_decrease=0.0, min_impurity_split=None,\n",
       "                       min_samples_leaf=1, min_samples_split=2,\n",
       "                       min_weight_fraction_leaf=0.0, n_estimators=200,\n",
       "                       n_jobs=None, oob_score=False, random_state=None,\n",
       "                       verbose=0, warm_start=False)"
      ]
     },
     "execution_count": 285,
     "metadata": {},
     "output_type": "execute_result"
    }
   ],
   "source": [
    "rfc2.fit(X_train, Y_train)"
   ]
  },
  {
   "cell_type": "code",
   "execution_count": 286,
   "metadata": {
    "scrolled": true
   },
   "outputs": [
    {
     "data": {
      "text/plain": [
       "0.692251169004676"
      ]
     },
     "execution_count": 286,
     "metadata": {},
     "output_type": "execute_result"
    }
   ],
   "source": [
    "rfc2.score(X_test, Y_test)"
   ]
  },
  {
   "cell_type": "markdown",
   "metadata": {},
   "source": [
    "Улуышений нет, попробуем убрать категориальные признаки."
   ]
  },
  {
   "cell_type": "code",
   "execution_count": 289,
   "metadata": {},
   "outputs": [],
   "source": [
    "X = df[['distance_km', 'hight_class', 'ferial', 'distance_between_driver_origin']]\n",
    "Y = df['driver_response']\n",
    "\n",
    "X_train, X_test, Y_train, Y_test = train_test_split(X, Y, test_size=0.3)"
   ]
  },
  {
   "cell_type": "code",
   "execution_count": 290,
   "metadata": {},
   "outputs": [
    {
     "data": {
      "text/plain": [
       "((69860, 4), (29940, 4), (69860,), (29940,))"
      ]
     },
     "execution_count": 290,
     "metadata": {},
     "output_type": "execute_result"
    }
   ],
   "source": [
    "X_train.shape, X_test.shape, Y_train.shape, Y_test.shape"
   ]
  },
  {
   "cell_type": "code",
   "execution_count": 291,
   "metadata": {},
   "outputs": [
    {
     "data": {
      "text/plain": [
       "RandomForestClassifier(bootstrap=True, class_weight=None, criterion='gini',\n",
       "                       max_depth=None, max_features='auto', max_leaf_nodes=None,\n",
       "                       min_impurity_decrease=0.0, min_impurity_split=None,\n",
       "                       min_samples_leaf=1, min_samples_split=2,\n",
       "                       min_weight_fraction_leaf=0.0, n_estimators=200,\n",
       "                       n_jobs=None, oob_score=False, random_state=None,\n",
       "                       verbose=0, warm_start=False)"
      ]
     },
     "execution_count": 291,
     "metadata": {},
     "output_type": "execute_result"
    }
   ],
   "source": [
    "rfc2.fit(X_train, Y_train)"
   ]
  },
  {
   "cell_type": "code",
   "execution_count": 292,
   "metadata": {},
   "outputs": [
    {
     "data": {
      "text/plain": [
       "0.6670674682698731"
      ]
     },
     "execution_count": 292,
     "metadata": {},
     "output_type": "execute_result"
    }
   ],
   "source": [
    "rfc2.score(X_test, Y_test)"
   ]
  },
  {
   "cell_type": "markdown",
   "metadata": {},
   "source": [
    "К сожалению эти преобразования были лишними... ))"
   ]
  },
  {
   "cell_type": "markdown",
   "metadata": {},
   "source": [
    "Максимальное, что получилось исходя из моей модели - 70,36%"
   ]
  }
 ],
 "metadata": {
  "celltoolbar": "Raw Cell Format",
  "kernelspec": {
   "display_name": "Python 3",
   "language": "python",
   "name": "python3"
  },
  "language_info": {
   "codemirror_mode": {
    "name": "ipython",
    "version": 3
   },
   "file_extension": ".py",
   "mimetype": "text/x-python",
   "name": "python",
   "nbconvert_exporter": "python",
   "pygments_lexer": "ipython3",
   "version": "3.7.3"
  }
 },
 "nbformat": 4,
 "nbformat_minor": 2
}
