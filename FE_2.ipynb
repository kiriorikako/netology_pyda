{
 "cells": [
  {
   "cell_type": "markdown",
   "metadata": {},
   "source": [
    "Необходимо запустить практическую часть занятия- файл находиться в материалах, и посмотреть самому то, о чём говорили на лекции. По образу практики, попробуйте создать искусственный датасет с лишними столбцами. Целевую метку, при правильной обработке данных, формируйте таким образом, чтобы без затруднений её смогла описать линейная модель. Ориентируйтесь на то, что было показано во время занятия, и каждый шаг описывайте в markdown. Здесь важно видеть ваш ход мысли. Не бойтесь ошибиться или написать не то. Данное задание не имеет какого-то “правильного” решения. Цель - достичь базового понимания проблемы. Чем больше вы фантазируете, тем лучше :) Тем не менее, старайтесь представить те ситуации, которые по-вашему мнению могли бы быть в реальных данных. Успеха!\n",
    "\n"
   ]
  },
  {
   "cell_type": "markdown",
   "metadata": {},
   "source": [
    "# По образу практики, попробуйте создать искусственный датасет с лишними столбцами.¶\n"
   ]
  },
  {
   "cell_type": "markdown",
   "metadata": {},
   "source": [
    "Создадим датасет о количестве потребляемых пончиков в день:\n",
    "\n",
    "    age - возраст (от 14 до 90)\n",
    "    height - рост (от 120 до 220)\n",
    "    weight - вес (от 40 до 150)\n",
    "    sex - пол (M\\F)\n",
    "    \n",
    "Будем предсказывать потербляемые пончики в зависимости от роста ,веса и возраста."
   ]
  },
  {
   "cell_type": "code",
   "execution_count": 1,
   "metadata": {},
   "outputs": [],
   "source": [
    "import numpy as np\n",
    "import pandas as pd\n",
    "\n",
    "from sklearn.linear_model import LinearRegression"
   ]
  },
  {
   "cell_type": "markdown",
   "metadata": {},
   "source": [
    "Загрузили необходимые библиотеки."
   ]
  },
  {
   "cell_type": "code",
   "execution_count": 52,
   "metadata": {},
   "outputs": [],
   "source": [
    "n_samples = 600\n",
    "\n",
    "age = np.random.choice(85, n_samples) + 5\n",
    "height = np.random.choice(155, n_samples) + 55\n",
    "weight = np.random.choice(80, n_samples) + 10\n",
    "sex = ['F' if i < 1 else 'M' for i in np.random.choice(3, n_samples)]\n",
    "\n",
    "donuts_ammount = height*weight/1000+7"
   ]
  },
  {
   "cell_type": "markdown",
   "metadata": {},
   "source": [
    "Создаем 600 примеров, генератором случайных чисел получаем данные для этих примеров. БУдем предсказывать потребляемые пончики."
   ]
  },
  {
   "cell_type": "code",
   "execution_count": 53,
   "metadata": {},
   "outputs": [
    {
     "data": {
      "text/html": [
       "<div>\n",
       "<style scoped>\n",
       "    .dataframe tbody tr th:only-of-type {\n",
       "        vertical-align: middle;\n",
       "    }\n",
       "\n",
       "    .dataframe tbody tr th {\n",
       "        vertical-align: top;\n",
       "    }\n",
       "\n",
       "    .dataframe thead th {\n",
       "        text-align: right;\n",
       "    }\n",
       "</style>\n",
       "<table border=\"1\" class=\"dataframe\">\n",
       "  <thead>\n",
       "    <tr style=\"text-align: right;\">\n",
       "      <th></th>\n",
       "      <th>age</th>\n",
       "      <th>sex</th>\n",
       "      <th>weight</th>\n",
       "      <th>height</th>\n",
       "      <th>donuts_ammount</th>\n",
       "    </tr>\n",
       "  </thead>\n",
       "  <tbody>\n",
       "    <tr>\n",
       "      <th>0</th>\n",
       "      <td>20</td>\n",
       "      <td>M</td>\n",
       "      <td>62</td>\n",
       "      <td>59</td>\n",
       "      <td>10.658</td>\n",
       "    </tr>\n",
       "    <tr>\n",
       "      <th>1</th>\n",
       "      <td>80</td>\n",
       "      <td>M</td>\n",
       "      <td>49</td>\n",
       "      <td>130</td>\n",
       "      <td>13.370</td>\n",
       "    </tr>\n",
       "    <tr>\n",
       "      <th>2</th>\n",
       "      <td>31</td>\n",
       "      <td>M</td>\n",
       "      <td>76</td>\n",
       "      <td>119</td>\n",
       "      <td>16.044</td>\n",
       "    </tr>\n",
       "    <tr>\n",
       "      <th>3</th>\n",
       "      <td>89</td>\n",
       "      <td>F</td>\n",
       "      <td>28</td>\n",
       "      <td>137</td>\n",
       "      <td>10.836</td>\n",
       "    </tr>\n",
       "    <tr>\n",
       "      <th>4</th>\n",
       "      <td>50</td>\n",
       "      <td>M</td>\n",
       "      <td>77</td>\n",
       "      <td>193</td>\n",
       "      <td>21.861</td>\n",
       "    </tr>\n",
       "    <tr>\n",
       "      <th>5</th>\n",
       "      <td>67</td>\n",
       "      <td>M</td>\n",
       "      <td>16</td>\n",
       "      <td>60</td>\n",
       "      <td>7.960</td>\n",
       "    </tr>\n",
       "    <tr>\n",
       "      <th>6</th>\n",
       "      <td>17</td>\n",
       "      <td>M</td>\n",
       "      <td>85</td>\n",
       "      <td>161</td>\n",
       "      <td>20.685</td>\n",
       "    </tr>\n",
       "    <tr>\n",
       "      <th>7</th>\n",
       "      <td>86</td>\n",
       "      <td>F</td>\n",
       "      <td>38</td>\n",
       "      <td>79</td>\n",
       "      <td>10.002</td>\n",
       "    </tr>\n",
       "    <tr>\n",
       "      <th>8</th>\n",
       "      <td>58</td>\n",
       "      <td>M</td>\n",
       "      <td>52</td>\n",
       "      <td>152</td>\n",
       "      <td>14.904</td>\n",
       "    </tr>\n",
       "    <tr>\n",
       "      <th>9</th>\n",
       "      <td>62</td>\n",
       "      <td>M</td>\n",
       "      <td>21</td>\n",
       "      <td>57</td>\n",
       "      <td>8.197</td>\n",
       "    </tr>\n",
       "  </tbody>\n",
       "</table>\n",
       "</div>"
      ],
      "text/plain": [
       "   age sex  weight  height  donuts_ammount\n",
       "0   20   M      62      59          10.658\n",
       "1   80   M      49     130          13.370\n",
       "2   31   M      76     119          16.044\n",
       "3   89   F      28     137          10.836\n",
       "4   50   M      77     193          21.861\n",
       "5   67   M      16      60           7.960\n",
       "6   17   M      85     161          20.685\n",
       "7   86   F      38      79          10.002\n",
       "8   58   M      52     152          14.904\n",
       "9   62   M      21      57           8.197"
      ]
     },
     "execution_count": 53,
     "metadata": {},
     "output_type": "execute_result"
    }
   ],
   "source": [
    "data = pd.DataFrame({'age': age, 'sex': sex, 'weight': weight,\n",
    "                     'height': height, 'donuts_ammount': donuts_ammount})\n",
    "data.head(10)"
   ]
  },
  {
   "cell_type": "markdown",
   "metadata": {},
   "source": [
    "Собственно смотрим первые 10 элементов, видим, что данные выглядят допустимым образом."
   ]
  },
  {
   "cell_type": "code",
   "execution_count": 54,
   "metadata": {},
   "outputs": [
    {
     "name": "stdout",
     "output_type": "stream",
     "text": [
      "Weights: [-0.00185814  0.04906117  0.13425592]\n",
      "Bias: 0.5271037764667508\n",
      "Error: 0.7717106885780933\n"
     ]
    }
   ],
   "source": [
    "from sklearn.metrics import mean_absolute_error\n",
    "\n",
    "x = data[['age', 'height', 'weight']]\n",
    "y = data['donuts_ammount'] \n",
    "reg = LinearRegression().fit(x, y)\n",
    "print('Weights: {}'.format(reg.coef_))\n",
    "print('Bias: {}'.format(reg.intercept_))\n",
    "\n",
    "pred_values = reg.predict(data[['age', 'height', 'weight']])\n",
    "print('Error: {}'.format(mean_absolute_error(pred_values, y)))"
   ]
  },
  {
   "cell_type": "markdown",
   "metadata": {},
   "source": [
    "Делаем предсказание на основании возраста, роста и веса о возрасте. Видим, что  у нас есть ошибка и мы можем что-то с  ней сделать."
   ]
  },
  {
   "cell_type": "code",
   "execution_count": 58,
   "metadata": {},
   "outputs": [
    {
     "name": "stdout",
     "output_type": "stream",
     "text": [
      "Weights: [0.13414437 0.04910255]\n",
      "Bias: 0.43717622529766764\n",
      "Error: 0.7709076370336889\n"
     ]
    }
   ],
   "source": [
    "from sklearn.metrics import mean_absolute_error\n",
    "\n",
    "x = data[['weight', 'height']] ## плохие помыслы и вес\n",
    "y = data['donuts_ammount'] ## с взрастом\n",
    "reg = LinearRegression().fit(x, y)\n",
    "print('Weights: {}'.format(reg.coef_))\n",
    "print('Bias: {}'.format(reg.intercept_))\n",
    "\n",
    "pred_values = reg.predict(data[['weight', 'height']])\n",
    "print('Error: {}'.format(mean_absolute_error(pred_values, y)))"
   ]
  },
  {
   "cell_type": "markdown",
   "metadata": {},
   "source": [
    "Пробуем предсказать только на возраста и роста, ошибка не особо поменялась."
   ]
  },
  {
   "cell_type": "code",
   "execution_count": 63,
   "metadata": {},
   "outputs": [
    {
     "data": {
      "text/html": [
       "<div>\n",
       "<style scoped>\n",
       "    .dataframe tbody tr th:only-of-type {\n",
       "        vertical-align: middle;\n",
       "    }\n",
       "\n",
       "    .dataframe tbody tr th {\n",
       "        vertical-align: top;\n",
       "    }\n",
       "\n",
       "    .dataframe thead th {\n",
       "        text-align: right;\n",
       "    }\n",
       "</style>\n",
       "<table border=\"1\" class=\"dataframe\">\n",
       "  <thead>\n",
       "    <tr style=\"text-align: right;\">\n",
       "      <th></th>\n",
       "      <th>age</th>\n",
       "      <th>sex</th>\n",
       "      <th>weight</th>\n",
       "      <th>height</th>\n",
       "      <th>donuts_ammount</th>\n",
       "      <th>extra_weight</th>\n",
       "    </tr>\n",
       "  </thead>\n",
       "  <tbody>\n",
       "    <tr>\n",
       "      <th>0</th>\n",
       "      <td>20</td>\n",
       "      <td>M</td>\n",
       "      <td>62</td>\n",
       "      <td>59</td>\n",
       "      <td>10.658</td>\n",
       "      <td>3.658</td>\n",
       "    </tr>\n",
       "    <tr>\n",
       "      <th>1</th>\n",
       "      <td>80</td>\n",
       "      <td>M</td>\n",
       "      <td>49</td>\n",
       "      <td>130</td>\n",
       "      <td>13.370</td>\n",
       "      <td>6.370</td>\n",
       "    </tr>\n",
       "    <tr>\n",
       "      <th>2</th>\n",
       "      <td>31</td>\n",
       "      <td>M</td>\n",
       "      <td>76</td>\n",
       "      <td>119</td>\n",
       "      <td>16.044</td>\n",
       "      <td>9.044</td>\n",
       "    </tr>\n",
       "    <tr>\n",
       "      <th>3</th>\n",
       "      <td>89</td>\n",
       "      <td>F</td>\n",
       "      <td>28</td>\n",
       "      <td>137</td>\n",
       "      <td>10.836</td>\n",
       "      <td>3.836</td>\n",
       "    </tr>\n",
       "    <tr>\n",
       "      <th>4</th>\n",
       "      <td>50</td>\n",
       "      <td>M</td>\n",
       "      <td>77</td>\n",
       "      <td>193</td>\n",
       "      <td>21.861</td>\n",
       "      <td>14.861</td>\n",
       "    </tr>\n",
       "  </tbody>\n",
       "</table>\n",
       "</div>"
      ],
      "text/plain": [
       "   age sex  weight  height  donuts_ammount  extra_weight\n",
       "0   20   M      62      59          10.658         3.658\n",
       "1   80   M      49     130          13.370         6.370\n",
       "2   31   M      76     119          16.044         9.044\n",
       "3   89   F      28     137          10.836         3.836\n",
       "4   50   M      77     193          21.861        14.861"
      ]
     },
     "execution_count": 63,
     "metadata": {},
     "output_type": "execute_result"
    }
   ],
   "source": [
    "# Создаем новый признак\n",
    "data['extra_weight'] = data['weight'] * data['height']/1000\n",
    "data.head(5)"
   ]
  },
  {
   "cell_type": "markdown",
   "metadata": {},
   "source": [
    "Добавляем новый признак, который будет основан на предыдущих. Допустим, что набранный из-за пончиков вес зависит от веса и кол-ва пончиков."
   ]
  },
  {
   "cell_type": "code",
   "execution_count": 64,
   "metadata": {},
   "outputs": [
    {
     "name": "stdout",
     "output_type": "stream",
     "text": [
      "Weights: [1.]\n",
      "Bias: 7.000000000000002\n",
      "Error: 1.791159813061919e-15\n"
     ]
    }
   ],
   "source": [
    "X = data[['extra_weight']]\n",
    "y = data['donuts_ammount']\n",
    "reg = LinearRegression().fit(X, y)\n",
    "print('Weights: {}'.format(reg.coef_))\n",
    "print('Bias: {}'.format(reg.intercept_))\n",
    "\n",
    "pred_values = reg.predict(data[['extra_weight']])\n",
    "print('Error: {}'.format(mean_absolute_error(pred_values, y)))"
   ]
  },
  {
   "cell_type": "markdown",
   "metadata": {},
   "source": [
    "Пробуем предсказать на сонвоании этого нового признака кол-во потребляемых пончиков, видим, что ошибка у нас почти равна 0 - 1.79 в -15 степени."
   ]
  },
  {
   "cell_type": "markdown",
   "metadata": {},
   "source": [
    "# THE END!"
   ]
  },
  {
   "cell_type": "code",
   "execution_count": null,
   "metadata": {},
   "outputs": [],
   "source": []
  }
 ],
 "metadata": {
  "kernelspec": {
   "display_name": "Python 3",
   "language": "python",
   "name": "python3"
  },
  "language_info": {
   "codemirror_mode": {
    "name": "ipython",
    "version": 3
   },
   "file_extension": ".py",
   "mimetype": "text/x-python",
   "name": "python",
   "nbconvert_exporter": "python",
   "pygments_lexer": "ipython3",
   "version": "3.7.3"
  }
 },
 "nbformat": 4,
 "nbformat_minor": 2
}
