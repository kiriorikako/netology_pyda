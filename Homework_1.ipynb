{
 "cells": [
  {
   "cell_type": "markdown",
   "metadata": {},
   "source": [
    "Задание 1:"
   ]
  },
  {
   "cell_type": "code",
   "execution_count": 2,
   "metadata": {},
   "outputs": [
    {
     "data": {
      "text/plain": [
       "False"
      ]
     },
     "execution_count": 2,
     "metadata": {},
     "output_type": "execute_result"
    }
   ],
   "source": [
    "long_phrase = 'Насколько проще было бы писать программы, если бы не заказчики'\n",
    "short_phrase = '640Кб должно хватить для любых задач. Билл Гейтс (по легенде)'\n",
    "len(long_phrase) > len(short_phrase)"
   ]
  },
  {
   "cell_type": "markdown",
   "metadata": {},
   "source": [
    "Задание 2 (логично учитывать и малые объемы, иначе некрасиво выходит=)):"
   ]
  },
  {
   "cell_type": "code",
   "execution_count": 7,
   "metadata": {},
   "outputs": [
    {
     "name": "stdout",
     "output_type": "stream",
     "text": [
      "Введите значение объема файла в байтах5000\n",
      "Объем файла равен 4.8 Kb\n"
     ]
    }
   ],
   "source": [
    "volume = input('Введите значение объема файла в байтах')\n",
    "if float(volume)/1048576 < 0.1:\n",
    "    print ('Объем файла равен', round(float(volume)/1042,2), 'Kb')\n",
    "else:\n",
    "    print ('Объем файла равен', round(float(volume)/1048576,2), 'Mb')"
   ]
  },
  {
   "cell_type": "markdown",
   "metadata": {},
   "source": [
    "Задание 3:"
   ]
  },
  {
   "cell_type": "code",
   "execution_count": 17,
   "metadata": {
    "scrolled": true
   },
   "outputs": [
    {
     "name": "stdout",
     "output_type": "stream",
     "text": [
      "Введите число Вашего рождения:6\n",
      "Введите месяц Вашего рождения:Апрель\n",
      "Овен\n"
     ]
    }
   ],
   "source": [
    "birth_day = int(input('Введите число Вашего рождения:'))\n",
    "birth_month = input('Введите месяц Вашего рождения:').lower()\n",
    "if birth_month == 'январь':\n",
    "    if 1 <=birth_day <= 20:\n",
    "        print('Козерог')\n",
    "    elif 20< birth_day <= 31:\n",
    "        print('Водолей')\n",
    "    else: print('Вы потерялись во времени')\n",
    "elif birth_month == 'февраль':\n",
    "    if 1 <= birth_day <= 20:\n",
    "        print('Водолей')\n",
    "    elif 20 < birth_day <= 29:\n",
    "        print('Рыбы')\n",
    "    else: print('Вы потерялись во времени')\n",
    "elif birth_month == 'март':\n",
    "    if 1 <= birth_day <= 20:\n",
    "        print('Рыбы')\n",
    "    elif 20 < birth_day <= 31:\n",
    "        print('Овен')\n",
    "    else: print('Вы потерялись во времени')\n",
    "elif birth_month == 'апрель':\n",
    "    if 1 <= birth_day <= 20:\n",
    "        print('Овен')\n",
    "    elif 20 < birth_day <= 30:\n",
    "        print('Телец')\n",
    "    else: print('Вы потерялись во времени')\n",
    "elif birth_month == 'май':\n",
    "    if 1 <= birth_day <= 20:\n",
    "        print('Телец')\n",
    "    elif 20 < birth_day <= 31:\n",
    "        print('Близнецы')\n",
    "    else: print('Вы потерялись во времени')\n",
    "elif birth_month == 'июнь':\n",
    "    if 1 <= birth_day <= 21:\n",
    "        print('Близнецы')\n",
    "    elif 21 < birth_day <= 30:\n",
    "        print('Рак')\n",
    "    else: print('Вы потерялись во времени')\n",
    "elif birth_month == 'июль':\n",
    "    if 1 <= birth_day <= 22:\n",
    "        print('Рак')\n",
    "    elif 22 < birth_day <= 31:\n",
    "        print('Лев')\n",
    "    else: print('Вы потерялись во времени')\n",
    "elif birth_month == 'август':\n",
    "    if 1 <= birth_day <= 23:\n",
    "        print('Лев')\n",
    "    elif 23 < birth_day <= 31:\n",
    "        print('Дева')\n",
    "    else: print('Вы потерялись во времени')\n",
    "elif birth_month == 'сентябрь':\n",
    "    if 1 <= birth_day <= 23:\n",
    "        print('Дева')\n",
    "    elif 23 < birth_day <= 30:\n",
    "        print('Весы')\n",
    "    else: print('Вы потерялись во времени')\n",
    "elif birth_month == 'октябрь':\n",
    "    if 1 <= birth_day <= 23:\n",
    "        print('Весы')\n",
    "    elif 23 < birth_day <= 31:\n",
    "        print('Скорпион')\n",
    "    else: print('Вы потерялись во времени')\n",
    "elif birth_month == 'ноябрь':\n",
    "    if 1 <= birth_day <= 22:\n",
    "        print('Скорпион')\n",
    "    elif 22 < birth_day <= 30:\n",
    "        print('Стрелец')\n",
    "    else: print('Вы потерялись во времени')\n",
    "elif birth_month == 'декабрь':\n",
    "    if 1 <= birth_day <= 21:\n",
    "        print('Стрелец')\n",
    "    elif 21 < birth_day <=31:\n",
    "        print('Козерог')\n",
    "    else: print('Вы потерялись во времени')\n",
    "else:\n",
    "    print('Ваш месяц рождения слегка специфичен')\n"
   ]
  },
  {
   "cell_type": "markdown",
   "metadata": {},
   "source": [
    "Задание 4:"
   ]
  },
  {
   "cell_type": "code",
   "execution_count": 1,
   "metadata": {
    "scrolled": true
   },
   "outputs": [
    {
     "name": "stdout",
     "output_type": "stream",
     "text": [
      "Введите заработную плату в месяц:100000\n",
      "Введите, сколько процентов уходит на ипотеку:30\n",
      "Введите, сколько процентов уходит на жизнь:40\n",
      "Введите кол-во премий в год:2\n",
      "На ипотеку было потрачено: 360000.0\n",
      "Было накоплено: 460000.0\n"
     ]
    }
   ],
   "source": [
    "total_salary = float(input('Введите заработную плату в месяц:'))\n",
    "mortgage_percent = float(input('Введите, сколько процентов уходит на ипотеку:'))\n",
    "life_percent = float(input('Введите, сколько процентов уходит на жизнь:'))\n",
    "premium_count = float(input('Введите кол-во премий в год:'))\n",
    "\n",
    "print('На ипотеку было потрачено:', total_salary*12/100*mortgage_percent)\n",
    "print('Было накоплено:', total_salary*12/100*(100-mortgage_percent-life_percent)+total_salary*premium_count*0.5)\n"
   ]
  },
  {
   "cell_type": "code",
   "execution_count": null,
   "metadata": {},
   "outputs": [],
   "source": []
  }
 ],
 "metadata": {
  "kernelspec": {
   "display_name": "Python 3",
   "language": "python",
   "name": "python3"
  },
  "language_info": {
   "codemirror_mode": {
    "name": "ipython",
    "version": 3
   },
   "file_extension": ".py",
   "mimetype": "text/x-python",
   "name": "python",
   "nbconvert_exporter": "python",
   "pygments_lexer": "ipython3",
   "version": "3.7.3"
  }
 },
 "nbformat": 4,
 "nbformat_minor": 2
}
